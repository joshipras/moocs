{
 "cells": [
  {
   "cell_type": "code",
   "execution_count": 1,
   "metadata": {},
   "outputs": [],
   "source": [
    "import pandas as pd\n",
    "import random\n",
    "import numpy\n",
    "from IPython.display import HTML\n",
    "from matplotlib import pylab\n",
    "from matplotlib import pyplot as plt\n",
    "from IPython.display import Image\n",
    "\n"
   ]
  },
  {
   "cell_type": "markdown",
   "metadata": {},
   "source": [
    "<h2>Introduction to Machine Learning </h2>\n",
    "<img src=\"ml_prog.png\" style = \"width:600px;height:400px;\">\n",
    "<h4> Basic Learning Paradigm: Predictions</h4>\n",
    "<ol>\n",
    "<li> Observe (training) Data</li>\n",
    "<li> Infer something about the process</li>\n",
    "<li> Make predictions on unseen (test) data</li>\n",
    "</ol>\n",
    "\n",
    "\n",
    "<h4> Other learning Paradigm: Classification: Characterizing/labelling data </h4>\n",
    "<ul>\n",
    "<li> Observe (training) Data</li>\n",
    "<li> Infer & model characteristics of labels</li>\n",
    "<li> Label unseen data</li>\n",
    "</ul>\n",
    "\n",
    "Supervised/Unsupervised:   \n",
    "\n",
    "<b>Unsupervised Clustering:</b> \n",
    "<li> Decide on a metric makes 2 observations similar/different.</li> \n",
    "<li> Groupings of objects similar to (near) each other, different (far apart) from the other groups.</li>\n",
    "\n",
    "<b>Supervised Clustering:</b> \n",
    "<li> Find the best line (or subsurface) that seperates the known/labelled groups.</li> \n",
    "<li> Check where new example lies relative to best line and assign label.</li> \n",
    "\n",
    "<b>Stages in Classification: </b><br>\n",
    "Decide How to\n",
    "1. segment training data, evaluate succes\n",
    "2. represent each instance: What are the right features\n",
    "3. measure distance\n",
    "4. build detailed versions of measuring similarities \n",
    "5. optimize the versions\n",
    "\n",
    "<b>Optimizing: </b><br>\n",
    "How many false positives, false negatives are tolerable?\n",
    "<br>\n",
    "<li>Confusion Matrix give true positives, true negatives.</li>\n",
    "<li>Accuracy = True Pos + True Neg / (TP+TN+FP+FN)</li>\n",
    "<li>Positive Predictive Value: How many true positives out of all positives? <br> TP / TP + FP <br>\n",
    "\n",
    "<li>Sensitivity: What % correctly find? <br>\n",
    "    TP / TP + FN\n",
    "<li>Sensitivity: What % correctly reject?\n",
    "    TN / TN + FP"
   ]
  }
 ],
 "metadata": {
  "kernelspec": {
   "display_name": "Python 3",
   "language": "python",
   "name": "python3"
  },
  "language_info": {
   "codemirror_mode": {
    "name": "ipython",
    "version": 3
   },
   "file_extension": ".py",
   "mimetype": "text/x-python",
   "name": "python",
   "nbconvert_exporter": "python",
   "pygments_lexer": "ipython3",
   "version": "3.7.4"
  }
 },
 "nbformat": 4,
 "nbformat_minor": 4
}
