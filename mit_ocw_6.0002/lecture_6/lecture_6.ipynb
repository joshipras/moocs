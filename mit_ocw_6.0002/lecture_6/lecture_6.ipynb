{
 "cells": [
  {
   "cell_type": "code",
   "execution_count": 1,
   "metadata": {},
   "outputs": [
    {
     "data": {
      "text/html": [
       "<script>\n",
       "code_show=true; \n",
       "function code_toggle() {\n",
       " if (code_show){\n",
       " $('div.input').hide();\n",
       " $('#toggleButton').val('Show Code')\n",
       " } else {\n",
       " $('div.input').show();\n",
       " $('#toggleButton').val('Hide Code')\n",
       " }\n",
       " code_show = !code_show\n",
       "} \n",
       "$( document ).ready(code_toggle);\n",
       "</script>\n",
       "<form action=\"javascript:code_toggle()\"><input type=\"submit\" id = \"toggleButton\" value=\"Hide Code\"></form>"
      ],
      "text/plain": [
       "<IPython.core.display.HTML object>"
      ]
     },
     "execution_count": 1,
     "metadata": {},
     "output_type": "execute_result"
    }
   ],
   "source": [
    "from IPython.display import HTML\n",
    "\n",
    "HTML('''<script>\n",
    "code_show=true; \n",
    "function code_toggle() {\n",
    " if (code_show){\n",
    " $('div.input').hide();\n",
    " $('#toggleButton').val('Show Code')\n",
    " } else {\n",
    " $('div.input').show();\n",
    " $('#toggleButton').val('Hide Code')\n",
    " }\n",
    " code_show = !code_show\n",
    "} \n",
    "$( document ).ready(code_toggle);\n",
    "</script>\n",
    "<form action=\"javascript:code_toggle()\"><input type=\"submit\" id = \"toggleButton\" value=\"Hide Code\"></form>''')"
   ]
  },
  {
   "cell_type": "code",
   "execution_count": 9,
   "metadata": {},
   "outputs": [],
   "source": [
    "%run lect6.py"
   ]
  },
  {
   "cell_type": "code",
   "execution_count": 4,
   "metadata": {},
   "outputs": [
    {
     "data": {
      "text/html": [
       "<h1><center> Monte Carlo Simulation</center></h1>"
      ],
      "text/plain": [
       "<IPython.core.display.HTML object>"
      ]
     },
     "execution_count": 4,
     "metadata": {},
     "output_type": "execute_result"
    }
   ],
   "source": [
    "HTML('<h1><center> Monte Carlo Simulation</center></h1>')"
   ]
  },
  {
   "cell_type": "markdown",
   "metadata": {},
   "source": [
    "* A method of estimating the value of an unknown quantity using the principles of inferential statistics.\n",
    "* Inferential statistics makes use of the fact that a random sample tends to exhibit the same properties as the sample that it was drawn from."
   ]
  },
  {
   "cell_type": "markdown",
   "metadata": {},
   "source": [
    "<h1><center> Bernoulli's law or Law of large numbers </center></h1>\n",
    "    \n",
    "<h3><center>Confidence in experiements depends on variability of results </center></h3>\n",
    "<li> 98/100 heads is low variability, intuitively (and mathematically) it makes sense for coin to be biased. </li>\n",
    "<li> 52/100 heads is high variability, we need larger samples to have same amount of confidence. </li>\n",
    "<li> Let's look at how variability changes for spins of a roulette wheel with larger samples:"
   ]
  },
  {
   "cell_type": "code",
   "execution_count": 13,
   "metadata": {},
   "outputs": [
    {
     "name": "stdout",
     "output_type": "stream",
     "text": [
      "100 spins of Fair Roulette\n",
      "Expected return betting 2 = -100.0%\n",
      "\n",
      "100 spins of Fair Roulette\n",
      "Expected return betting 2 = 44.0%\n",
      "\n",
      "100 spins of Fair Roulette\n",
      "Expected return betting 2 = -28.0%\n",
      "\n",
      "1000000 spins of Fair Roulette\n",
      "Expected return betting 2 = -0.046%\n",
      "\n",
      "1000000 spins of Fair Roulette\n",
      "Expected return betting 2 = 0.602%\n",
      "\n",
      "1000000 spins of Fair Roulette\n",
      "Expected return betting 2 = 0.7964%\n",
      "\n"
     ]
    }
   ],
   "source": [
    "random.seed(0)\n",
    "game = FairRoulette()\n",
    "for numSpins in (100, 1000000):\n",
    "    for i in range(3):\n",
    "        playRoulette(game, numSpins, 2, 1, True)\n"
   ]
  },
  {
   "cell_type": "markdown",
   "metadata": {},
   "source": [
    "<li> With first 3 sets of spins, variance in return is high, we need larger samples to be confident about the return. With larger # of spins, return is closer to 0.\n",
    "<br><br>    \n",
    "<b> Law of Large Numbers:<b><br> In repeated independant tests with the same actual probability p of a particular outcome in each test, the change that the fraction of times that outcome occurs differs from p converges to 0 as no. of trials go to infinity.</p>    "
   ]
  },
  {
   "cell_type": "markdown",
   "metadata": {},
   "source": [
    "<h1><center> Gambler's Fallacy</center></h1>\n",
    "If deviations from expected occur, it will somehow be evened out in the future.\n",
    "\n",
    "\n",
    "<h1><center> Regression to the mean</center></h1>\n",
    "Following an extreme random event, the next random is likely to be less extreme i.e. closer to the mean.\n",
    "\n",
    "<h1><center> Gambler's Fallacy vs Regression to the mean</center></h1>\n",
    "\n",
    "<li> If from 10 spins of roulette wheel, 10 reds (p = 1/1024)\n",
    "<br>    \n",
    "<b>Gambler's fallacy:</b>\n",
    "<br>\n",
    "    by spinning another 10 times, we would likely get fewer than 5 reds so we are closer to mean 5, it would need to even out. \n",
    "<br>    \n",
    "<b>Regression to the mean:</b>\n",
    "<br>\n",
    "    by spinning another 10 times, we would likely get fewer than 10 reds, a less extreme event.\n",
    "    \n",
    "    \n",
    "    "
   ]
  },
  {
   "cell_type": "markdown",
   "metadata": {},
   "source": [
    "<li> How many samples needed to have justifiable confidence in answer depends on variability in the data"
   ]
  },
  {
   "cell_type": "code",
   "execution_count": 2,
   "metadata": {},
   "outputs": [
    {
     "data": {
      "text/html": [
       "\n",
       "\n",
       "<hr>\n",
       "<div dir = \"rtl\">\n",
       "<ul style = 'list-style-type:square'>\n",
       "<li> End of Document\n",
       "</li>\n",
       "\n"
      ],
      "text/plain": [
       "<IPython.core.display.HTML object>"
      ]
     },
     "execution_count": 2,
     "metadata": {},
     "output_type": "execute_result"
    }
   ],
   "source": [
    "HTML(\n",
    "'''\n",
    "\n",
    "<hr>\n",
    "<div dir = \"rtl\">\n",
    "<ul style = 'list-style-type:square'>\n",
    "<li> End of Document\n",
    "</li>\n",
    "\n",
    "'''\n",
    "\n",
    ")"
   ]
  },
  {
   "cell_type": "code",
   "execution_count": 3,
   "metadata": {},
   "outputs": [
    {
     "data": {
      "text/html": [
       "<script>\n",
       "$(document).ready(function(){\n",
       "    $('div.prompt').hide();\n",
       "    $('div.back-to-top').hide();\n",
       "    $('nav#menubar').hide();\n",
       "    $('.breadcrumb').hide();\n",
       "    $('.hidden-print').hide();\n",
       " });\n",
       "</script>\n"
      ],
      "text/plain": [
       "<IPython.core.display.HTML object>"
      ]
     },
     "execution_count": 3,
     "metadata": {},
     "output_type": "execute_result"
    }
   ],
   "source": [
    "HTML('''<script>\n",
    "$(document).ready(function(){\n",
    "    $('div.prompt').hide();\n",
    "    $('div.back-to-top').hide();\n",
    "    $('nav#menubar').hide();\n",
    "    $('.breadcrumb').hide();\n",
    "    $('.hidden-print').hide();\n",
    " });\n",
    "</script>\n",
    "''')"
   ]
  },
  {
   "cell_type": "code",
   "execution_count": null,
   "metadata": {},
   "outputs": [],
   "source": []
  }
 ],
 "metadata": {
  "kernelspec": {
   "display_name": "Python 3",
   "language": "python",
   "name": "python3"
  },
  "language_info": {
   "codemirror_mode": {
    "name": "ipython",
    "version": 3
   },
   "file_extension": ".py",
   "mimetype": "text/x-python",
   "name": "python",
   "nbconvert_exporter": "python",
   "pygments_lexer": "ipython3",
   "version": "3.7.4"
  }
 },
 "nbformat": 4,
 "nbformat_minor": 4
}
