{
 "cells": [
  {
   "cell_type": "code",
   "execution_count": 7,
   "metadata": {},
   "outputs": [
    {
     "data": {
      "text/html": [
       "<script>\n",
       "code_show=true; \n",
       "function code_toggle() {\n",
       " if (code_show){\n",
       " $('div.input').hide();\n",
       " $('#toggleButton').val('Show Code')\n",
       " } else {\n",
       " $('div.input').show();\n",
       " $('#toggleButton').val('Hide Code')\n",
       " }\n",
       " code_show = !code_show\n",
       "} \n",
       "$( document ).ready(code_toggle);\n",
       "</script>\n",
       "<form action=\"javascript:code_toggle()\"><input type=\"submit\" id = \"toggleButton\" value=\"Hide Code\"></form>"
      ],
      "text/plain": [
       "<IPython.core.display.HTML object>"
      ]
     },
     "execution_count": 7,
     "metadata": {},
     "output_type": "execute_result"
    }
   ],
   "source": [
    "from IPython.display import HTML\n",
    "\n",
    "HTML('''<script>\n",
    "code_show=true; \n",
    "function code_toggle() {\n",
    " if (code_show){\n",
    " $('div.input').hide();\n",
    " $('#toggleButton').val('Show Code')\n",
    " } else {\n",
    " $('div.input').show();\n",
    " $('#toggleButton').val('Hide Code')\n",
    " }\n",
    " code_show = !code_show\n",
    "} \n",
    "$( document ).ready(code_toggle);\n",
    "</script>\n",
    "<form action=\"javascript:code_toggle()\"><input type=\"submit\" id = \"toggleButton\" value=\"Hide Code\"></form>''')"
   ]
  },
  {
   "cell_type": "code",
   "execution_count": 8,
   "metadata": {},
   "outputs": [
    {
     "data": {
      "text/html": [
       "<h1><center> Optimization problems</center></h1>"
      ],
      "text/plain": [
       "<IPython.core.display.HTML object>"
      ]
     },
     "execution_count": 8,
     "metadata": {},
     "output_type": "execute_result"
    }
   ],
   "source": [
    "HTML('<h1><center> Optimization problems</center></h1>')"
   ]
  },
  {
   "cell_type": "markdown",
   "metadata": {},
   "source": [
    "<h3> Pros and Cons of Greedy Algorithms </h3>\n",
    "\n",
    "<h3> Pros: </h3>\n",
    "<li> Easy to implement\n",
    "<li> Fast: n log(n)\n",
    "    \n",
    "    \n",
    "<h3> Cons: </h3>\n",
    "<li> Solution may not be optimal. Doesn't solve the optimization problems.\n",
    "<li> Can't tell how far from optimal a solution is."
   ]
  },
  {
   "cell_type": "markdown",
   "metadata": {},
   "source": [
    "<h2><center>Greedy algorithm implementation: Search Tree</center><h2>\n",
    "    \n",
    "<img src=\"_images/search_tree.png\" style = \"width:600px;height:400px;\">\n",
    "    "
   ]
  },
  {
   "cell_type": "markdown",
   "metadata": {},
   "source": [
    "<h3>Algorithm:</h3>\n",
    "<br>\n",
    "<li> Select left item, traverse tree until bottom\n",
    "<li> Return to one level above, select right item.\n",
    "<li> Move up another level, repeat.\n",
    "<li> Check which leaves no meet constraint and choose winner that provides most value.\n",
    "<br>    \n",
    "<br>    \n",
    "<h3>Complexity:</h3>\n",
    "<br>    \n",
    "If n items,     \n",
    "<li> N levels in tree (since 1 item chosen at each level\n",
    "<li> No. of nodes at ith level = 2^i\n",
    "<li> Total no of nodes = Sum i=0 - N(2 ^ i)\n",
    "<li> <b> Complexity</b> = O(2^(n + 1)) (Exponential)\n",
    "    \n",
    "    \n",
    "One obvious optimization: Stop generating rest of tree (stop adding more items) when a node is too heavy\n",
    "    \n",
    "    \n",
    "    \n",
    "    "
   ]
  },
  {
   "cell_type": "markdown",
   "metadata": {},
   "source": [
    "<h2><center>Dynamic Programming</center></h2>\n",
    "\n",
    "<h4><center> Fibonacci Series </center></h4>\n",
    "\n",
    "<img src=\"_images/fib.png\" style = \"width:600px;height:300px;\">\n",
    "\n",
    "<br>\n",
    "<li> Same calculations repeated (Eg. Fib(4) computed twice, Fib(3) computed thrice etc.)\n",
    "<li> Optimization: Store the answer, look up when needed i.e. Memoization.\n",
    "<li> Store calculated values as you go, do not evaluate if fib for a number already calculated.\n",
    "<li> Memoization can only help with\n",
    "    <ul>\n",
    "    <li> <b>Optimal substructure: </b> when a globally optimal solution can be found (Fib(6)) by combinining optimal solutions to local subproblems\n",
    "    <li> <b>Overlapping Subproblems: </b> same problem (fib(x)) needs to be solved multiple times to find optimal solution. </ul>\n",
    "    \n",
    "<li> Knapsack Problem has both an Optimal substructure and Overlapping Problems\n",
    "    \n",
    "    \n",
    "    \n",
    "<h3> Summary </h3>\n",
    "<br>    \n",
    "<li>Many problems of practical importance can be formulated as optimization problems.\n",
    "<li>Greedy algorithms often provide adequate (though not necessarily optimal) solutions.\n",
    "<li>Finding an optimal solution is usually exponentially hard.\n",
    "<li>But Dynamic programming often yields good performance for a subclass of optimization problems those with optimal substructure and overlapping subproblems.\n",
    "    <ul>\n",
    "    <li> Solution is always correct.\n",
    "    <li> Fast under the right circumstances.\n",
    "    </ul>    "
   ]
  },
  {
   "cell_type": "code",
   "execution_count": 9,
   "metadata": {},
   "outputs": [
    {
     "data": {
      "text/html": [
       "\n",
       "\n",
       "<hr>\n",
       "<div dir = \"rtl\">\n",
       "<ul style = 'list-style-type:square'>\n",
       "<li> End of Document\n",
       "</li>\n",
       "\n"
      ],
      "text/plain": [
       "<IPython.core.display.HTML object>"
      ]
     },
     "execution_count": 9,
     "metadata": {},
     "output_type": "execute_result"
    }
   ],
   "source": [
    "HTML(\n",
    "'''\n",
    "\n",
    "<hr>\n",
    "<div dir = \"rtl\">\n",
    "<ul style = 'list-style-type:square'>\n",
    "<li> End of Document\n",
    "</li>\n",
    "\n",
    "'''\n",
    "\n",
    ")"
   ]
  },
  {
   "cell_type": "code",
   "execution_count": 10,
   "metadata": {},
   "outputs": [
    {
     "data": {
      "text/html": [
       "<script>\n",
       "$(document).ready(function(){\n",
       "    $('div.prompt').hide();\n",
       "    $('div.back-to-top').hide();\n",
       "    $('nav#menubar').hide();\n",
       "    $('.breadcrumb').hide();\n",
       "    $('.hidden-print').hide();\n",
       " });\n",
       "</script>\n"
      ],
      "text/plain": [
       "<IPython.core.display.HTML object>"
      ]
     },
     "execution_count": 10,
     "metadata": {},
     "output_type": "execute_result"
    }
   ],
   "source": [
    "HTML('''<script>\n",
    "$(document).ready(function(){\n",
    "    $('div.prompt').hide();\n",
    "    $('div.back-to-top').hide();\n",
    "    $('nav#menubar').hide();\n",
    "    $('.breadcrumb').hide();\n",
    "    $('.hidden-print').hide();\n",
    " });\n",
    "</script>\n",
    "''')"
   ]
  },
  {
   "cell_type": "code",
   "execution_count": null,
   "metadata": {},
   "outputs": [],
   "source": []
  }
 ],
 "metadata": {
  "kernelspec": {
   "display_name": "Python 3",
   "language": "python",
   "name": "python3"
  },
  "language_info": {
   "codemirror_mode": {
    "name": "ipython",
    "version": 3
   },
   "file_extension": ".py",
   "mimetype": "text/x-python",
   "name": "python",
   "nbconvert_exporter": "python",
   "pygments_lexer": "ipython3",
   "version": "3.7.4"
  }
 },
 "nbformat": 4,
 "nbformat_minor": 4
}
