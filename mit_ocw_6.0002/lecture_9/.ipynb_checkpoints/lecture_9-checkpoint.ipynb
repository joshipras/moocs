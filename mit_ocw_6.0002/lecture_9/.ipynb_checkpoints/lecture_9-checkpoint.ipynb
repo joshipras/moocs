{
 "cells": [
  {
   "cell_type": "code",
   "execution_count": 1,
   "metadata": {},
   "outputs": [
    {
     "data": {
      "text/html": [
       "<script>\n",
       "code_show=true; \n",
       "function code_toggle() {\n",
       " if (code_show){\n",
       " $('div.input').hide();\n",
       " $('#toggleButton').val('Show Code')\n",
       " } else {\n",
       " $('div.input').show();\n",
       " $('#toggleButton').val('Show Code')\n",
       " }\n",
       " code_show = !code_show\n",
       "} \n",
       "$( document ).ready(code_toggle);\n",
       "</script>\n",
       "<form action=\"javascript:code_toggle()\"><input type=\"submit\" id = \"toggleButton\" value=\"Hide Code\"></form>"
      ],
      "text/plain": [
       "<IPython.core.display.HTML object>"
      ]
     },
     "execution_count": 1,
     "metadata": {},
     "output_type": "execute_result"
    }
   ],
   "source": [
    "from IPython.display import HTML\n",
    "\n",
    "HTML('''<script>\n",
    "code_show=true; \n",
    "function code_toggle() {\n",
    " if (code_show){\n",
    " $('div.input').hide();\n",
    " $('#toggleButton').val('Show Code')\n",
    " } else {\n",
    " $('div.input').show();\n",
    " $('#toggleButton').val('Show Code')\n",
    " }\n",
    " code_show = !code_show\n",
    "} \n",
    "$( document ).ready(code_toggle);\n",
    "</script>\n",
    "<form action=\"javascript:code_toggle()\"><input type=\"submit\" id = \"toggleButton\" value=\"Hide Code\"></form>''')"
   ]
  },
  {
   "cell_type": "code",
   "execution_count": 2,
   "metadata": {},
   "outputs": [],
   "source": [
    "import pandas as pd\n",
    "import random\n",
    "import numpy\n",
    "from IPython.display import HTML\n",
    "from matplotlib import pylab\n",
    "from matplotlib import pyplot as plt\n",
    "from IPython.display import Image\n",
    "\n",
    "%run LectureCode.py\n"
   ]
  },
  {
   "cell_type": "code",
   "execution_count": 19,
   "metadata": {},
   "outputs": [
    {
     "data": {
      "text/html": [
       "<h1><center> Understanding Experimental Data</center></h1>"
      ],
      "text/plain": [
       "<IPython.core.display.HTML object>"
      ]
     },
     "execution_count": 19,
     "metadata": {},
     "output_type": "execute_result"
    }
   ],
   "source": [
    "HTML('<h1><center> Understanding Experimental Data</center></h1>')"
   ]
  },
  {
   "cell_type": "markdown",
   "metadata": {},
   "source": [
    "- How do we interpret resuts of experiments \n",
    "- How do we analyze results to test current hypotheses \n",
    "- How do we use them to inform future experiments/decisions?\n"
   ]
  },
  {
   "cell_type": "code",
   "execution_count": 4,
   "metadata": {},
   "outputs": [
    {
     "data": {
      "text/html": [
       "\n",
       "<h3>How good are obtained results of experiments?</h3>  <br>\n",
       "Eg. Hooke's law <br>\n",
       "Force <b>F</b> = spring constant <b>K</b> * Displacement <b>d</b>\n",
       "\n",
       "<li> We can get K by measuring F and d for a few observations.\n",
       "<li> There might be some noise in the data, observed relationship might not be strictly linear.\n",
       "<li> So generalize over obtained K's, we need to <b>fit a curve</b> to observations.\n"
      ],
      "text/plain": [
       "<IPython.core.display.HTML object>"
      ]
     },
     "execution_count": 4,
     "metadata": {},
     "output_type": "execute_result"
    }
   ],
   "source": [
    "HTML('''\n",
    "<h3>How good are obtained results of experiments?</h3>  <br>\n",
    "Eg. Hooke's law <br>\n",
    "Force <b>F</b> = spring constant <b>K</b> * Displacement <b>d</b>\n",
    "<li> We can get K by measuring F and d for a few observations.\n",
    "<li> There might be some noise in the data, observed relationship might not be strictly linear.\n",
    "<li> So generalize over obtained K's, we need to <b>fit a curve</b> to observations.\n",
    "''')"
   ]
  },
  {
   "cell_type": "code",
   "execution_count": 20,
   "metadata": {},
   "outputs": [
    {
     "data": {
      "text/html": [
       "\n",
       "\n",
       "<h3> How to define if a fit to the curve is good? </h3> <br>\n",
       "<li> Using an objective function: Measure of how close curve is to the data.\n",
       "<li> Best curve is the curve that minimizes objective function, such as : <b>distance of all points from the curve</b>.\n",
       "\n",
       "\n"
      ],
      "text/plain": [
       "<IPython.core.display.HTML object>"
      ]
     },
     "execution_count": 20,
     "metadata": {},
     "output_type": "execute_result"
    }
   ],
   "source": [
    "HTML('''\n",
    "<h3> How to define if a fit to the curve is good? </h3> <br>\n",
    "<li> Using an objective function: Measure of how close curve is to the data.\n",
    "<li> Best curve is the curve that minimizes objective function, such as : <b>distance of all points from the curve</b>.\n",
    "''')"
   ]
  },
  {
   "cell_type": "code",
   "execution_count": 6,
   "metadata": {},
   "outputs": [
    {
     "data": {
      "text/html": [
       "<h3> How to measure distance? </h3>\n",
       "\n",
       "<img src=\"dist.png\" style = \"width:300px;height:150px;\">\n",
       "\n",
       "\n",
       "<p>Options: </p>\n",
       "\n",
       "<ol>\n",
       "<li> X axis: Along X we have independant values, distance along X doesn't make sense.</li>\n",
       "<li> perpendicular: Makes sense in the case of classifiers/separators.</li>\n",
       "<li> along Y axis: Since along Y we have dependant value, displacement/uncertainty is along Y.</li>\n",
       "</ol>\n"
      ],
      "text/plain": [
       "<IPython.core.display.HTML object>"
      ]
     },
     "execution_count": 6,
     "metadata": {},
     "output_type": "execute_result"
    }
   ],
   "source": [
    "HTML('''<h3> How to measure distance? </h3>\n",
    "\n",
    "<img src=\"dist.png\" style = \"width:300px;height:150px;\">\n",
    "\n",
    "\n",
    "<p>Options: </p>\n",
    "\n",
    "<ol>\n",
    "<li> X axis: Along X we have independant values, distance along X doesn't make sense.</li>\n",
    "<li> perpendicular: Makes sense in the case of classifiers/separators.</li>\n",
    "<li> along Y axis: Since along Y we have dependant value, displacement/uncertainty is along Y.</li>\n",
    "</ol>\n",
    "''')"
   ]
  },
  {
   "cell_type": "code",
   "execution_count": 7,
   "metadata": {},
   "outputs": [
    {
     "data": {
      "text/html": [
       "<h3> How to set objective function? </h3>\n",
       "<img src=\"obj_fun.png\" style = \"width:300px;height:75px;\">\n",
       "<br>\n",
       "Equivalent to Variance * No. of observations<br>\n",
       "Equivalent to Variance between actual and predicted, makes sensse to minimize<br>\n"
      ],
      "text/plain": [
       "<IPython.core.display.HTML object>"
      ]
     },
     "execution_count": 7,
     "metadata": {},
     "output_type": "execute_result"
    }
   ],
   "source": [
    "HTML('''<h3> How to set objective function? </h3>\n",
    "<img src=\"obj_fun.png\" style = \"width:300px;height:75px;\">\n",
    "<br>\n",
    "Equivalent to Variance * No. of observations<br>\n",
    "Equivalent to Variance between actual and predicted, makes sensse to minimize<br>\n",
    "''')"
   ]
  },
  {
   "cell_type": "code",
   "execution_count": 8,
   "metadata": {},
   "outputs": [
    {
     "data": {
      "text/html": [
       "\n",
       "<h3> How to minimize objective function?</h3><br>\n",
       "\n",
       "<li> Assumption in the example: best fit is a line degree 1 polynomial, so using linear regression.\n",
       "<li> With best fit line: ax + b\n",
       "    <ul>\n",
       "        <li>All possible values of x give a line, \n",
       "        <li>All possible values of a and b give a surface.\n",
       "     </ul>   \n",
       "<li> Linear Regression: start at a point on this surface, walk downhill: \n",
       "linearly regress until you get to the lowest point. \n",
       "<li> Sum of squared makes sure hill surface only has 1 minimum.\n"
      ],
      "text/plain": [
       "<IPython.core.display.HTML object>"
      ]
     },
     "execution_count": 8,
     "metadata": {},
     "output_type": "execute_result"
    }
   ],
   "source": [
    "HTML('''\n",
    "<h3> How to minimize objective function?</h3><br>\n",
    "\n",
    "<li> Assumption in the example: best fit is a line degree 1 polynomial, so using linear regression.\n",
    "<li> With best fit line: ax + b\n",
    "    <ul>\n",
    "        <li>All possible values of x give a line, \n",
    "        <li>All possible values of a and b give a surface.\n",
    "     </ul>   \n",
    "<li> Linear Regression: start at a point on this surface, walk downhill: \n",
    "linearly regress until you get to the lowest point. \n",
    "<li> Sum of squared makes sure hill surface only has 1 minimum.\n",
    "''')"
   ]
  },
  {
   "cell_type": "code",
   "execution_count": 9,
   "metadata": {},
   "outputs": [
    {
     "data": {
      "image/png": "[encoded data removed]",
      "text/plain": [
       "<Figure size 432x288 with 1 Axes>"
      ]
     },
     "metadata": {
      "needs_background": "light"
     },
     "output_type": "display_data"
    }
   ],
   "source": [
    "HTML('''\n",
    "<h3>How good is the fit?</h3>\n",
    "<p> For data below Quadratic appears to be a better fit. <br>\n",
    "Could higher order polynomials be a better fit? <br> \n",
    "What is the best way to do the fit?\n",
    "''')\n",
    "\n",
    "#Demonstration using mystery data\n",
    "\n",
    "xVals, yVals = getData('mysteryData.txt')\n",
    "pylab.plot(xVals, yVals, 'o', label = 'Data Points')\n",
    "pylab.title('Mystery Data')\n",
    "\n",
    "#Try linear model\n",
    "model1 = pylab.polyfit(xVals, yVals, 1)\n",
    "pylab.plot(xVals, pylab.polyval(model1, xVals),\n",
    "          label = 'Linear Model')\n",
    "\n",
    "#Try a quadratic model\n",
    "model2 = pylab.polyfit(xVals, yVals, 2)\n",
    "pylab.plot(xVals, pylab.polyval(model2, xVals),\n",
    "          'r--', label = 'Quadratic Model')\n",
    "pylab.legend()\n",
    "plt.show()"
   ]
  },
  {
   "cell_type": "code",
   "execution_count": 11,
   "metadata": {},
   "outputs": [
    {
     "data": {
      "text/html": [
       "Average MSE for:<br>\n",
       "<li> Linear Model: 9372.73\n",
       "<li> Quadratic Model: 1524.02\n",
       "\n"
      ],
      "text/plain": [
       "<IPython.core.display.HTML object>"
      ]
     },
     "execution_count": 11,
     "metadata": {},
     "output_type": "execute_result"
    }
   ],
   "source": [
    "\n",
    "##Compare models\n",
    "def aveMeanSquareError(data, predicted):\n",
    "    error = 0.0\n",
    "    for i in range(len(data)):\n",
    "        error += (data[i] - predicted[i])**2\n",
    "    return error/len(data)\n",
    "\n",
    "# Avg MSE for linear model:\n",
    "estYVals_l = pylab.polyval(model1, xVals)\n",
    "\n",
    "# Avg MSE for quadratic model:\n",
    "estYVals_q = pylab.polyval(model2, xVals)\n",
    "\n",
    "HTML('''Average MSE for:<br>\n",
    "<li> Linear Model: '''+str(aveMeanSquareError(yVals, estYVals_l).round(2))+'''\n",
    "<li> Quadratic Model: '''+str(aveMeanSquareError(yVals, estYVals_q).round(2))+'''\n",
    "\n",
    "''')"
   ]
  },
  {
   "cell_type": "code",
   "execution_count": 12,
   "metadata": {},
   "outputs": [
    {
     "data": {
      "text/html": [
       "<li>Quadratic has lower MSE, but is 1524.02 good enough? \n",
       "<li> Also MSE is scale dependant, it will go up for another set of values if values themselves are high.\n",
       "<li> we would need a metric that is scale independant.\n"
      ],
      "text/plain": [
       "<IPython.core.display.HTML object>"
      ]
     },
     "execution_count": 12,
     "metadata": {},
     "output_type": "execute_result"
    }
   ],
   "source": [
    "HTML('''<li>Quadratic has lower MSE, but is 1524.02 good enough? \n",
    "<li> Also MSE is scale dependant, it will go up for another set of values if values themselves are high.\n",
    "<li> we would need a metric that is scale independant.\n",
    "''')"
   ]
  },
  {
   "cell_type": "code",
   "execution_count": 13,
   "metadata": {},
   "outputs": [
    {
     "data": {
      "text/html": [
       "\n",
       "<h3>Co-efficient of determination:</h3>\n",
       "<li> COD accounts for inherent variability in the data:\n",
       "<br>\n",
       "<img src=\"cod.png\" style = \"width:600px;height:150px;\">\n",
       "\n",
       "<li> This is a ratio, so scale independant:\n",
       "\n"
      ],
      "text/plain": [
       "<IPython.core.display.HTML object>"
      ]
     },
     "execution_count": 13,
     "metadata": {},
     "output_type": "execute_result"
    }
   ],
   "source": [
    "HTML('''\n",
    "<h3>Co-efficient of determination:</h3>\n",
    "<li> COD accounts for inherent variability in the data:\n",
    "<br>\n",
    "<img src=\"cod.png\" style = \"width:600px;height:150px;\">\n",
    "\n",
    "<li> This is a ratio, so scale independant:\n",
    "\n",
    "''')"
   ]
  },
  {
   "cell_type": "code",
   "execution_count": 14,
   "metadata": {},
   "outputs": [
    {
     "data": {
      "image/png": "[encoded data removed]",
      "text/plain": [
       "<Figure size 432x288 with 1 Axes>"
      ]
     },
     "metadata": {
      "needs_background": "light"
     },
     "output_type": "display_data"
    }
   ],
   "source": [
    "def rSquared(observed, predicted):\n",
    "    error = ((predicted - observed)**2).sum()\n",
    "    meanError = error/len(observed)\n",
    "    return 1 - (meanError/numpy.var(observed))\n",
    "\n",
    "# Mean Error/Variance is same as error in estimates/variability\n",
    "\n",
    "# Generate fits of different degrees\n",
    "def genFits(xVals, yVals, degrees):\n",
    "    models = []\n",
    "    for d in degrees:\n",
    "        model = pylab.polyfit(xVals, yVals, d)\n",
    "        models.append(model)\n",
    "    return models\n",
    "\n",
    "# test Fits\n",
    "def testFits(models, degrees, xVals, yVals, title):\n",
    "    pylab.plot(xVals, yVals, 'o', label = 'Data')\n",
    "    for i in range(len(models)):\n",
    "        estYVals = pylab.polyval(models[i], xVals)\n",
    "        error = rSquared(yVals, estYVals)\n",
    "        pylab.plot(xVals, estYVals,\n",
    "                   label = 'Fit of degree '\\\n",
    "                   + str(degrees[i])\\\n",
    "                   + ', R2 = ' + str(round(error, 5)))\n",
    "    pylab.legend(loc = 'best')\n",
    "    pylab.title(title)\n",
    "\n",
    "    \n",
    "#code for testing goodness of fit to parabolic data\n",
    "\n",
    "xVals, yVals = getData('mysteryData.txt')\n",
    "degrees = (1, 2)\n",
    "models = genFits(xVals, yVals, degrees)\n",
    "testFits(models, degrees, xVals, yVals, 'Mystery Data')"
   ]
  },
  {
   "cell_type": "code",
   "execution_count": 15,
   "metadata": {},
   "outputs": [
    {
     "data": {
      "text/html": [
       "\n",
       "<h3> Interpretaton of Co-Effecient of Determination:</h3>\n",
       "<br> \n",
       "<b>What Percentage of variability in data is explained in the model: </b>\n",
       "\n",
       "<li>Linear fit is accounting for < 1% of the variability in the data.</li>\n",
       "<li>Quadratic fit is accounting for 83% of the variability in the data.</li>\n"
      ],
      "text/plain": [
       "<IPython.core.display.HTML object>"
      ]
     },
     "execution_count": 15,
     "metadata": {},
     "output_type": "execute_result"
    }
   ],
   "source": [
    "HTML('''\n",
    "<h3> Interpretaton of Co-Effecient of Determination:</h3>\n",
    "<br> \n",
    "<b>What Percentage of variability in data is explained in the model: </b>\n",
    "\n",
    "<li>Linear fit is accounting for < 1% of the variability in the data.</li>\n",
    "<li>Quadratic fit is accounting for 83% of the variability in the data.</li>\n",
    "''')\n"
   ]
  },
  {
   "cell_type": "code",
   "execution_count": null,
   "metadata": {},
   "outputs": [],
   "source": []
  },
  {
   "cell_type": "code",
   "execution_count": 16,
   "metadata": {},
   "outputs": [
    {
     "data": {
      "image/png": "[encoded data removed]",
      "text/plain": [
       "<Figure size 432x288 with 1 Axes>"
      ]
     },
     "metadata": {
      "needs_background": "light"
     },
     "output_type": "display_data"
    }
   ],
   "source": [
    "HTML('''\n",
    "<h3> Compare higher order fits:</h3>\n",
    "\n",
    "''')\n",
    "\n",
    "#Compare higher-order fits\n",
    "degrees = (2, 4, 8, 16)\n",
    "models = genFits(xVals, yVals, degrees)\n",
    "testFits(models, degrees, xVals, yVals, 'Mystery Data')"
   ]
  },
  {
   "cell_type": "code",
   "execution_count": 17,
   "metadata": {},
   "outputs": [
    {
     "data": {
      "text/html": [
       "\n",
       "<li> Just because Polynomial of degree 16 fits the data best, does not mean we should use it. Continued in next lecture </li>\n",
       "<hr>\n",
       "<div dir = \"rtl\">\n",
       "<ul style = 'list-style-type:square'>\n",
       "<li> End of Document\n",
       "</li>\n",
       "\n"
      ],
      "text/plain": [
       "<IPython.core.display.HTML object>"
      ]
     },
     "execution_count": 17,
     "metadata": {},
     "output_type": "execute_result"
    }
   ],
   "source": [
    "HTML(\n",
    "'''\n",
    "<li> Just because Polynomial of degree 16 fits the data best, does not mean we should use it. Continued in next lecture </li>\n",
    "<hr>\n",
    "<div dir = \"rtl\">\n",
    "<ul style = 'list-style-type:square'>\n",
    "<li> End of Document\n",
    "</li>\n",
    "\n",
    "'''\n",
    "\n",
    ")"
   ]
  },
  {
   "cell_type": "code",
   "execution_count": 21,
   "metadata": {},
   "outputs": [
    {
     "data": {
      "text/html": [
       "<script>\n",
       "$(document).ready(function(){\n",
       "    $('div.prompt').hide();\n",
       "    $('div.back-to-top').hide();\n",
       "    $('nav#menubar').hide();\n",
       "    $('.breadcrumb').hide();\n",
       "    $('.hidden-print').hide();\n",
       " });\n",
       "</script>\n"
      ],
      "text/plain": [
       "<IPython.core.display.HTML object>"
      ]
     },
     "execution_count": 21,
     "metadata": {},
     "output_type": "execute_result"
    }
   ],
   "source": [
    "HTML('''<script>\n",
    "$(document).ready(function(){\n",
    "    $('div.prompt').hide();\n",
    "    $('div.back-to-top').hide();\n",
    "    $('nav#menubar').hide();\n",
    "    $('.breadcrumb').hide();\n",
    "    $('.hidden-print').hide();\n",
    " });\n",
    "</script>\n",
    "''')"
   ]
  },
  {
   "cell_type": "code",
   "execution_count": null,
   "metadata": {},
   "outputs": [],
   "source": []
  }
 ],
 "metadata": {
  "kernelspec": {
   "display_name": "Python 3",
   "language": "python",
   "name": "python3"
  },
  "language_info": {
   "codemirror_mode": {
    "name": "ipython",
    "version": 3
   },
   "file_extension": ".py",
   "mimetype": "text/x-python",
   "name": "python",
   "nbconvert_exporter": "python",
   "pygments_lexer": "ipython3",
   "version": "3.7.4"
  }
 },
 "nbformat": 4,
 "nbformat_minor": 4
}
