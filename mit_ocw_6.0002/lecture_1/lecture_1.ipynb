{
 "cells": [
  {
   "cell_type": "code",
   "execution_count": 1,
   "metadata": {},
   "outputs": [
    {
     "data": {
      "text/html": [
       "<script>\n",
       "code_show=true; \n",
       "function code_toggle() {\n",
       " if (code_show){\n",
       " $('div.input').hide();\n",
       " $('#toggleButton').val('Show Code')\n",
       " } else {\n",
       " $('div.input').show();\n",
       " $('#toggleButton').val('Hide Code')\n",
       " }\n",
       " code_show = !code_show\n",
       "} \n",
       "$( document ).ready(code_toggle);\n",
       "</script>\n",
       "<form action=\"javascript:code_toggle()\"><input type=\"submit\" id = \"toggleButton\" value=\"Hide Code\"></form>"
      ],
      "text/plain": [
       "<IPython.core.display.HTML object>"
      ]
     },
     "execution_count": 1,
     "metadata": {},
     "output_type": "execute_result"
    }
   ],
   "source": [
    "from IPython.display import HTML\n",
    "\n",
    "HTML('''<script>\n",
    "code_show=true; \n",
    "function code_toggle() {\n",
    " if (code_show){\n",
    " $('div.input').hide();\n",
    " $('#toggleButton').val('Show Code')\n",
    " } else {\n",
    " $('div.input').show();\n",
    " $('#toggleButton').val('Hide Code')\n",
    " }\n",
    " code_show = !code_show\n",
    "} \n",
    "$( document ).ready(code_toggle);\n",
    "</script>\n",
    "<form action=\"javascript:code_toggle()\"><input type=\"submit\" id = \"toggleButton\" value=\"Hide Code\"></form>''')"
   ]
  },
  {
   "cell_type": "code",
   "execution_count": 2,
   "metadata": {},
   "outputs": [
    {
     "data": {
      "text/html": [
       "<h1><center> Introduction and Optimization problems</center></h1>"
      ],
      "text/plain": [
       "<IPython.core.display.HTML object>"
      ]
     },
     "execution_count": 2,
     "metadata": {},
     "output_type": "execute_result"
    }
   ],
   "source": [
    "HTML('<h1><center> Introduction and Optimization problems</center></h1>')"
   ]
  },
  {
   "cell_type": "code",
   "execution_count": 6,
   "metadata": {},
   "outputs": [],
   "source": [
    "%run lecture1.py"
   ]
  },
  {
   "cell_type": "markdown",
   "metadata": {},
   "source": [
    "<h1><center>What is an optimization Model?</center></h1>\n",
    "    \n",
    "<li> A model consissting of an objective function that needs to be maximized or minimized subject to a certain set of contraints that must be honored. \n",
    "<li> Eg. Objective: Minimize time spent travelling from New York to Boston <br>\n",
    "     Set of contraints: Cannot spend > $100, must reach Boston by 5 PM.\n"
   ]
  },
  {
   "cell_type": "markdown",
   "metadata": {},
   "source": [
    "<h1><center>Eg. Knapsack Problem</center></h1>\n"
   ]
  },
  {
   "cell_type": "markdown",
   "metadata": {},
   "source": [
    "<li> Maximise the number of items you can carry in a knapsack, s.t. contraint: weight capacity of the Knapsack\n",
    "<br>\n",
    "<br>\n",
    "<h4>Solutions:</h4>\n",
    "<br>    \n",
    "\n",
    "<h4> 1. Brute Force </h4>\n",
    "    \n",
    "<li> Compute all possible combinations of items. \n",
    "<li> Retain combination with max weight within knapsack limit.    \n",
    "<li> Often not possible since the power set (all possible subsets) gets large very quickly. With 100 items, we get a powerset of size 1 decillion (1 over 33 zeros)\n",
    "<li> O(n.log(n))complexity\n",
    "    \n",
    "    \n",
    "<h4> 2. Greedy</h4>    \n",
    "<li> While knapsack is not full, put best available item.\n",
    "<li> If best item does  not fit, find next best item that fits. \n",
    "<li> Stop when full.\n",
    " \n",
    "    "
   ]
  },
  {
   "cell_type": "code",
   "execution_count": 8,
   "metadata": {},
   "outputs": [
    {
     "data": {
      "text/html": [
       "\n",
       "\n",
       "<hr>\n",
       "<div dir = \"rtl\">\n",
       "<ul style = 'list-style-type:square'>\n",
       "<li> End of Document\n",
       "</li>\n",
       "\n"
      ],
      "text/plain": [
       "<IPython.core.display.HTML object>"
      ]
     },
     "execution_count": 8,
     "metadata": {},
     "output_type": "execute_result"
    }
   ],
   "source": [
    "HTML(\n",
    "'''\n",
    "\n",
    "<hr>\n",
    "<div dir = \"rtl\">\n",
    "<ul style = 'list-style-type:square'>\n",
    "<li> End of Document\n",
    "</li>\n",
    "\n",
    "'''\n",
    "\n",
    ")"
   ]
  },
  {
   "cell_type": "code",
   "execution_count": 9,
   "metadata": {},
   "outputs": [
    {
     "data": {
      "text/html": [
       "<script>\n",
       "$(document).ready(function(){\n",
       "    $('div.prompt').hide();\n",
       "    $('div.back-to-top').hide();\n",
       "    $('nav#menubar').hide();\n",
       "    $('.breadcrumb').hide();\n",
       "    $('.hidden-print').hide();\n",
       " });\n",
       "</script>\n"
      ],
      "text/plain": [
       "<IPython.core.display.HTML object>"
      ]
     },
     "execution_count": 9,
     "metadata": {},
     "output_type": "execute_result"
    }
   ],
   "source": [
    "HTML('''<script>\n",
    "$(document).ready(function(){\n",
    "    $('div.prompt').hide();\n",
    "    $('div.back-to-top').hide();\n",
    "    $('nav#menubar').hide();\n",
    "    $('.breadcrumb').hide();\n",
    "    $('.hidden-print').hide();\n",
    " });\n",
    "</script>\n",
    "''')"
   ]
  },
  {
   "cell_type": "code",
   "execution_count": null,
   "metadata": {},
   "outputs": [],
   "source": []
  }
 ],
 "metadata": {
  "kernelspec": {
   "display_name": "Python 3",
   "language": "python",
   "name": "python3"
  },
  "language_info": {
   "codemirror_mode": {
    "name": "ipython",
    "version": 3
   },
   "file_extension": ".py",
   "mimetype": "text/x-python",
   "name": "python",
   "nbconvert_exporter": "python",
   "pygments_lexer": "ipython3",
   "version": "3.7.4"
  }
 },
 "nbformat": 4,
 "nbformat_minor": 4
}
