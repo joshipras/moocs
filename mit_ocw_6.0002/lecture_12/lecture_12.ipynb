{
 "cells": [
  {
   "cell_type": "code",
   "execution_count": 1,
   "metadata": {},
   "outputs": [],
   "source": [
    "import pandas as pd\n",
    "import random\n",
    "import numpy\n",
    "from IPython.display import HTML\n",
    "from matplotlib import pylab\n",
    "from matplotlib import pyplot as plt\n",
    "from IPython.display import Image\n",
    "\n"
   ]
  },
  {
   "cell_type": "markdown",
   "metadata": {},
   "source": [
    "<h2>Clustering </h2>\n",
    "<left><img src=\"optimization.png\" style = \"width:400px;height:150px;\">\n",
    "\n",
    "    \n",
    "   \n",
    "<h3>Hierarchical Clustering:</h3>\n",
    "1. assign each item to a cluster, so we have N clusters for N items\n",
    "2. find closest pair of clusters, merge into 1 cluster so you have 1 fewer cluster\n",
    "3. continue until all items are merged into 1 cluster (dendogram)\n",
    "<li>. aka agglomerative clustering\n",
    "<li> greedy algorithm, slow. complexity = o(n^3)\n",
    "    \n",
    "<h3>Distance Metrics:</h3>\n",
    "<li> Single-linkage: shortest distance from any member of one cluster to any member of other cluster. \n",
    "<li> Complete linkage: greatest distance from any member of one closter to any member of other cluster.\n",
    "<li> Average distance\n",
    "<li> Deterministic    "
   ]
  },
  {
   "cell_type": "markdown",
   "metadata": {},
   "source": [
    "  \n",
    "<h3>K-Means Clustering:</h3>\n",
    "<li> Choose k random examples as centroids\n",
    "<li> assign each example to a closest centroid\n",
    "<li> within each cluster, average examples to get new centroid.\n",
    "<li> reassign examples to closest centroids\n",
    "<li> repeat until centroids don't move\n",
    "<li> Need to specify k: no. of clusters\n",
    "<li> Faster than hierarchical\n",
    "<li> complexity = O(n^2)\n",
    "    \n",
    "    \n",
    "<li> Non-deterministic: initial random examples can influence the answer. So try multiple sets of initial random centroids.\n",
    "<br>\n",
    "    \n",
    "How to choose K?\n",
    "<li>Apriori knowldedge about the about the application domain\n",
    "<li> Try different K's\n",
    "<li> Use hierarchical clustering to deterine initial structure\n",
    "    \n"
   ]
  },
  {
   "cell_type": "code",
   "execution_count": null,
   "metadata": {},
   "outputs": [],
   "source": [
    " "
   ]
  }
 ],
 "metadata": {
  "kernelspec": {
   "display_name": "Python 3",
   "language": "python",
   "name": "python3"
  },
  "language_info": {
   "codemirror_mode": {
    "name": "ipython",
    "version": 3
   },
   "file_extension": ".py",
   "mimetype": "text/x-python",
   "name": "python",
   "nbconvert_exporter": "python",
   "pygments_lexer": "ipython3",
   "version": "3.7.4"
  }
 },
 "nbformat": 4,
 "nbformat_minor": 4
}
