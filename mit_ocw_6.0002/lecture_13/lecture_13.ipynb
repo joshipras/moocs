{
 "cells": [
  {
   "cell_type": "code",
   "execution_count": 1,
   "metadata": {},
   "outputs": [],
   "source": [
    "import pandas as pd\n",
    "import random\n",
    "import numpy\n",
    "from IPython.display import HTML\n",
    "from matplotlib import pylab\n",
    "from matplotlib import pyplot as plt\n",
    "from IPython.display import Image\n",
    "\n"
   ]
  },
  {
   "cell_type": "markdown",
   "metadata": {},
   "source": [
    "<h2>Classification </h2>\n",
    "<li> Predict a discrete value (label) associated with a feature vector\n",
    "<li> Nearest Neighbor: Given known training data, new example gets label associated with the closest point.\n",
    "<li> K Nearest Neighbor: Pick k (eg. 3) nearest neighbors to new examples, assign labal that is for majority of the neighbors.\n",
    "<li> Drawback: If k is bigger, it is slower, and a lot of examples get classified as majority class.\n",
    "    \n",
    "    \n",
    "<h3>How to choose K:</h3>\n",
    "<li> Cross Validation: \n",
    "<li> Experiment with different Ks\n",
    "<li> Leave 1 out\n",
    "<li> Repeated random sampling: 80% Train and 20% Train splits randomly\n",
    "    \n",
    " "
   ]
  },
  {
   "cell_type": "code",
   "execution_count": 10,
   "metadata": {},
   "outputs": [],
   "source": [
    "def minkowskiDist(v1, v2, p):\n",
    "    \"\"\"Assumes v1 and v2 are equal-length arrays of numbers\n",
    "       Returns Minkowski distance of order p between v1 and v2\"\"\"\n",
    "    dist = 0.0\n",
    "    for i in range(len(v1)):\n",
    "        dist += abs(v1[i] - v2[i])**p\n",
    "    return dist**(1/p)\n",
    "\n",
    "class Animal(object):\n",
    "    def __init__(self, name, features):\n",
    "        \"\"\"Assumes name a string; features a list of numbers\"\"\"\n",
    "        self.name = name\n",
    "        self.features = pylab.array(features)\n",
    "        \n",
    "    def getName(self):\n",
    "        return self.name\n",
    "    \n",
    "    def getFeatures(self):\n",
    "        return self.features\n",
    "    \n",
    "    def distance(self, other):\n",
    "        \"\"\"Assumes other an Animal\n",
    "           Returns the Euclidean distance between feature vectors\n",
    "              of self and other\"\"\"\n",
    "        return minkowskiDist(self.getFeatures(),\n",
    "                             other.getFeatures(), 2)\n",
    "                             \n",
    "    def __str__(self):\n",
    "        return self.name"
   ]
  },
  {
   "cell_type": "markdown",
   "metadata": {},
   "source": [
    "Leave 1 Out:"
   ]
  },
  {
   "cell_type": "code",
   "execution_count": 2,
   "metadata": {},
   "outputs": [],
   "source": [
    "def leaveOneOut(examples, method, toPrint = True):\n",
    "    truePos, falsePos, trueNeg, falseNeg = 0, 0, 0, 0\n",
    "    for i in range(len(examples)):\n",
    "        testCase = examples[i]\n",
    "        trainingData = examples[0:i] + examples[i+1:]\n",
    "        results = method(trainingData, [testCase])\n",
    "        truePos += results[0]\n",
    "        falsePos += results[1]\n",
    "        trueNeg += results[2]\n",
    "        falseNeg += results[3]\n",
    "    if toPrint:\n",
    "        getStats(truePos, falsePos, trueNeg, falseNeg)\n",
    "    return truePos, falsePos, trueNeg, falseNeg"
   ]
  },
  {
   "cell_type": "markdown",
   "metadata": {},
   "source": [
    "Repeated random sub-sampling:"
   ]
  },
  {
   "cell_type": "code",
   "execution_count": 12,
   "metadata": {},
   "outputs": [
    {
     "name": "stdout",
     "output_type": "stream",
     "text": [
      "Finished processing 1046 passengers\n",
      "\n"
     ]
    }
   ],
   "source": [
    "class Passenger(object):\n",
    "    featureNames = ('C1', 'C2', 'C3', 'age', 'male gender')\n",
    "    def __init__(self, pClass, age, gender, survived, name):\n",
    "        self.name = name\n",
    "        self.featureVec = [0, 0, 0, age, gender]\n",
    "        self.featureVec[pClass - 1] = 1\n",
    "        self.label = survived\n",
    "        self.cabinClass = pClass\n",
    "    def distance(self, other):\n",
    "        return minkowskiDist(self.featureVec, other.featureVec, 2)\n",
    "    def getClass(self):\n",
    "        return self.cabinClass\n",
    "    def getAge(self):\n",
    "        return self.featureVec[3]\n",
    "    def getGender(self):\n",
    "        return self.featureVec[4]\n",
    "    def getName(self):\n",
    "        return self.name\n",
    "    def getFeatures(self):\n",
    "        return self.featureVec[:]\n",
    "    def getLabel(self):\n",
    "        return self.label\n",
    "\n",
    "def getTitanicData(fname):\n",
    "    data = {}\n",
    "    data['class'], data['survived'], data['age'] = [], [], []\n",
    "    data['gender'], data['name'] = [], []\n",
    "    f = open(fname)\n",
    "    line = f.readline()\n",
    "    while line != '':\n",
    "        split = line.split(',')\n",
    "        data['class'].append(int(split[0]))\n",
    "        data['age'].append(float(split[1]))\n",
    "        if split[2] == 'M':\n",
    "            data['gender'].append(1)\n",
    "        else:\n",
    "            data['gender'].append(0)\n",
    "        if split[3] == '1':\n",
    "            data['survived'].append('Survived')\n",
    "        else:\n",
    "            data['survived'].append('Died')\n",
    "        data['name'].append(split[4:])\n",
    "        line = f.readline()\n",
    "    return data\n",
    "\n",
    "\n",
    "def buildTitanicExamples(fileName):\n",
    "    data = getTitanicData(fileName)\n",
    "    examples = []\n",
    "    for i in range(len(data['class'])):\n",
    "        p = Passenger(data['class'][i], data['age'][i],\n",
    "                      data['gender'][i], data['survived'][i],\n",
    "                      data['name'][i])\n",
    "        examples.append(p)\n",
    "    print('Finished processing', len(examples), 'passengers\\n')    \n",
    "    return examples\n",
    "    \n",
    "examples = buildTitanicExamples('TitanicPassengers.txt')\n",
    "\n",
    "def findNearest(name, exampleSet, metric):\n",
    "    for e in exampleSet:\n",
    "        if e.getName() == name:\n",
    "            example = e\n",
    "            break\n",
    "    curDist = None\n",
    "    for e in exampleSet:\n",
    "        if e.getName() != name:\n",
    "            if curDist == None or\\\n",
    "               metric(example, e) < curDist:\n",
    "                nearest = e\n",
    "                curDist = metric(example, nearest)\n",
    "    return nearest\n",
    "\n",
    "def accuracy(truePos, falsePos, trueNeg, falseNeg):\n",
    "    numerator = truePos + trueNeg\n",
    "    denominator = truePos + trueNeg + falsePos + falseNeg\n",
    "    return numerator/denominator\n",
    "\n",
    "def sensitivity(truePos, falseNeg):\n",
    "    try:\n",
    "        return truePos/(truePos + falseNeg)\n",
    "    except ZeroDivisionError:\n",
    "        return float('nan')\n",
    "    \n",
    "def specificity(trueNeg, falsePos):\n",
    "    try:\n",
    "        return trueNeg/(trueNeg + falsePos)\n",
    "    except ZeroDivisionError:\n",
    "        return float('nan')\n",
    "    \n",
    "def posPredVal(truePos, falsePos):\n",
    "    try:\n",
    "        return truePos/(truePos + falsePos)\n",
    "    except ZeroDivisionError:\n",
    "        return float('nan')\n",
    "    \n",
    "def negPredVal(trueNeg, falseNeg):\n",
    "    try:\n",
    "        return trueNeg/(trueNeg + falseNeg)\n",
    "    except ZeroDivisionError:\n",
    "        return float('nan')\n",
    "       \n",
    "def getStats(truePos, falsePos, trueNeg, falseNeg, toPrint = True):\n",
    "    accur = accuracy(truePos, falsePos, trueNeg, falseNeg)\n",
    "    sens = sensitivity(truePos, falseNeg)\n",
    "    spec = specificity(trueNeg, falsePos)\n",
    "    ppv = posPredVal(truePos, falsePos)\n",
    "    if toPrint:\n",
    "        print(' Accuracy =', round(accur, 3))\n",
    "        print(' Sensitivity =', round(sens, 3))\n",
    "        print(' Specificity =', round(spec, 3))\n",
    "        print(' Pos. Pred. Val. =', round(ppv, 3))\n",
    "    return (accur, sens, spec, ppv)"
   ]
  },
  {
   "cell_type": "code",
   "execution_count": 13,
   "metadata": {},
   "outputs": [],
   "source": [
    "def split80_20(examples):\n",
    "    sampleIndices = random.sample(range(len(examples)),\n",
    "                                  len(examples)//5)\n",
    "    trainingSet, testSet = [], []\n",
    "    for i in range(len(examples)):\n",
    "        if i in sampleIndices:\n",
    "            testSet.append(examples[i])\n",
    "        else:\n",
    "            trainingSet.append(examples[i])\n",
    "    return trainingSet, testSet\n",
    "\n",
    "\n",
    "def randomSplits(examples, method, numSplits, toPrint = True):\n",
    "    truePos, falsePos, trueNeg, falseNeg = 0, 0, 0, 0\n",
    "    random.seed(0)\n",
    "    for t in range(numSplits):\n",
    "        trainingSet, testSet = split80_20(examples)\n",
    "        results = method(trainingSet, testSet)\n",
    "        truePos += results[0]\n",
    "        falsePos += results[1]\n",
    "        trueNeg += results[2]\n",
    "        falseNeg += results[3]\n",
    "    getStats(truePos/numSplits, falsePos/numSplits,\n",
    "             trueNeg/numSplits, falseNeg/numSplits, toPrint)\n",
    "    return truePos/numSplits, falsePos/numSplits,\\\n",
    "             trueNeg/numSplits, falseNeg/numSplits"
   ]
  },
  {
   "cell_type": "code",
   "execution_count": 14,
   "metadata": {},
   "outputs": [],
   "source": [
    "def findKNearest(example, exampleSet, k):\n",
    "    kNearest, distances = [], []\n",
    "    #Build lists containing first k examples and their distances\n",
    "    for i in range(k):\n",
    "        kNearest.append(exampleSet[i])\n",
    "        distances.append(example.distance(exampleSet[i]))\n",
    "    maxDist = max(distances) #Get maximum distance\n",
    "    #Look at examples not yet considered\n",
    "    for e in exampleSet[k:]:\n",
    "        dist = example.distance(e)\n",
    "        if dist < maxDist:\n",
    "            #replace farther neighbor by this one\n",
    "            maxIndex = distances.index(maxDist)\n",
    "            kNearest[maxIndex] = e\n",
    "            distances[maxIndex] = dist\n",
    "            maxDist = max(distances)      \n",
    "    return kNearest, distances\n",
    "\n",
    "\n",
    "def KNearestClassify(training, testSet, label, k):\n",
    "    \"\"\"Assumes training & testSet lists of examples, k an int\n",
    "       Predicts whether each example in testSet has label\n",
    "       Returns number of true positives, false positives,\n",
    "          true negatives, and false negatives\"\"\"\n",
    "    truePos, falsePos, trueNeg, falseNeg = 0, 0, 0, 0\n",
    "    for testCase in testSet:\n",
    "        nearest, distances = findKNearest(testCase, training, k)\n",
    "        #conduct vote\n",
    "        numMatch = 0\n",
    "        for i in range(len(nearest)):\n",
    "            if nearest[i].getLabel() == label:\n",
    "                numMatch += 1\n",
    "        if numMatch > k//2: #guess label\n",
    "            if testCase.getLabel() == label:\n",
    "                truePos += 1\n",
    "            else:\n",
    "                falsePos += 1\n",
    "        else: #guess not label\n",
    "            if testCase.getLabel() != label:\n",
    "                trueNeg += 1\n",
    "            else:\n",
    "                falseNeg += 1\n",
    "    return truePos, falsePos, trueNeg, falseNeg"
   ]
  },
  {
   "cell_type": "code",
   "execution_count": 15,
   "metadata": {},
   "outputs": [],
   "source": [
    "knn = lambda training, testSet:\\\n",
    "             KNearestClassify(training, testSet,\n",
    "                              'Survived', 3)\n"
   ]
  },
  {
   "cell_type": "code",
   "execution_count": 16,
   "metadata": {},
   "outputs": [
    {
     "name": "stdout",
     "output_type": "stream",
     "text": [
      "Average of 10 80/20 splits using KNN (k=3)\n",
      " Accuracy = 0.766\n",
      " Sensitivity = 0.67\n",
      " Specificity = 0.836\n",
      " Pos. Pred. Val. = 0.747\n",
      "Average of LOO testing using KNN (k=3)\n",
      " Accuracy = 0.769\n",
      " Sensitivity = 0.663\n",
      " Specificity = 0.842\n",
      " Pos. Pred. Val. = 0.743\n"
     ]
    }
   ],
   "source": [
    "numSplits = 10\n",
    "print('Average of', numSplits,\n",
    "     '80/20 splits using KNN (k=3)')\n",
    "truePos, falsePos, trueNeg, falseNeg =\\\n",
    "     randomSplits(examples, knn, numSplits)\n",
    "\n",
    "print('Average of LOO testing using KNN (k=3)')\n",
    "truePos, falsePos, trueNeg, falseNeg =\\\n",
    "     leaveOneOut(examples, knn)\n",
    "\n"
   ]
  },
  {
   "cell_type": "markdown",
   "metadata": {},
   "source": [
    "<h2>Logistic Regression </h2>\n",
    "<li> Get co-efficients for each variable such as in linear regression.\n",
    "<li> Functions from sklearn used: <br>\n",
    "    - fit(),<br> \n",
    "    - coef_,<br> \n",
    "    - predict_proba()<br>"
   ]
  },
  {
   "cell_type": "code",
   "execution_count": 19,
   "metadata": {},
   "outputs": [],
   "source": [
    "import sklearn.linear_model"
   ]
  },
  {
   "cell_type": "code",
   "execution_count": 21,
   "metadata": {},
   "outputs": [],
   "source": [
    "def buildModel(examples, toPrint = True):\n",
    "    featureVecs, labels = [],[]\n",
    "    for e in examples:\n",
    "        featureVecs.append(e.getFeatures())\n",
    "        labels.append(e.getLabel())\n",
    "    LogisticRegression = sklearn.linear_model.LogisticRegression\n",
    "    model = LogisticRegression().fit(featureVecs, labels)\n",
    "    if toPrint:\n",
    "        print('model.classes_ =', model.classes_)\n",
    "        for i in range(len(model.coef_)):\n",
    "            print('For label', model.classes_[1])\n",
    "            for j in range(len(model.coef_[0])):\n",
    "                print('   ', Passenger.featureNames[j], '=',\n",
    "                      model.coef_[0][j])\n",
    "    return model"
   ]
  },
  {
   "cell_type": "code",
   "execution_count": 23,
   "metadata": {},
   "outputs": [
    {
     "name": "stdout",
     "output_type": "stream",
     "text": [
      "[0, 1, 4, 9, 16, 25, 36, 49, 64, 81]\n",
      "[0, 4, 16, 36, 64]\n"
     ]
    }
   ],
   "source": [
    "# Create lists using comprehension:\n",
    "\n",
    "L = [x*x for x in range(10)]\n",
    "print(L)\n",
    "L = [x*x for x in range(10) if x%2 == 0]\n",
    "print(L)\n"
   ]
  },
  {
   "cell_type": "markdown",
   "metadata": {},
   "source": [
    "Applying the model"
   ]
  },
  {
   "cell_type": "code",
   "execution_count": 26,
   "metadata": {},
   "outputs": [],
   "source": [
    "def applyModel(model, testSet, label, prob = 0.5):\n",
    "    # build feature sets\n",
    "    testFeatureVecs = [e.getFeatures() for e in testSet]\n",
    "    \n",
    "    probs = model.predict_proba(testFeatureVecs)\n",
    "    truePos, falsePos, trueNeg, falseNeg = 0, 0, 0, 0\n",
    "    for i in range(len(probs)):\n",
    "        #if probability assigned by predict_prob > 0.5 and pred label = label, assign truePositive\n",
    "        if probs[i][1] > prob:\n",
    "            if testSet[i].getLabel() == label:\n",
    "                truePos += 1\n",
    "            else:\n",
    "                falsePos += 1\n",
    "        else:\n",
    "            if testSet[i].getLabel() != label:\n",
    "                trueNeg += 1\n",
    "            else:\n",
    "                falseNeg += 1\n",
    "    return truePos, falsePos, trueNeg, falseNeg\n"
   ]
  },
  {
   "cell_type": "code",
   "execution_count": 27,
   "metadata": {},
   "outputs": [],
   "source": [
    "#logistic regression model:\n",
    "def lr(trainingData, testData, prob = 0.5):\n",
    "    model = buildModel(trainingData, False)\n",
    "    results = applyModel(model, testData, 'Survived', prob)\n",
    "    return results\n"
   ]
  },
  {
   "cell_type": "code",
   "execution_count": 28,
   "metadata": {},
   "outputs": [
    {
     "name": "stdout",
     "output_type": "stream",
     "text": [
      "Average of 10 80/20 splits LR\n",
      " Accuracy = 0.77\n",
      " Sensitivity = 0.697\n",
      " Specificity = 0.823\n",
      " Pos. Pred. Val. = 0.74\n",
      "Average of LOO testing using LR\n",
      " Accuracy = 0.785\n",
      " Sensitivity = 0.705\n",
      " Specificity = 0.84\n",
      " Pos. Pred. Val. = 0.752\n"
     ]
    }
   ],
   "source": [
    "random.seed(0)\n",
    "numSplits = 10\n",
    "print('Average of', numSplits, '80/20 splits LR')\n",
    "truePos, falsePos, trueNeg, falseNeg =\\\n",
    "     randomSplits(examples, lr, numSplits)\n",
    "\n",
    "print('Average of LOO testing using LR')\n",
    "truePos, falsePos, trueNeg, falseNeg =\\\n",
    "     leaveOneOut(examples, lr)\n"
   ]
  },
  {
   "cell_type": "code",
   "execution_count": 30,
   "metadata": {},
   "outputs": [
    {
     "name": "stdout",
     "output_type": "stream",
     "text": [
      "model.classes_ = ['Died' 'Survived']\n",
      "For label Survived\n",
      "    C1 = 1.1396948330864056\n",
      "    C2 = -0.07239924985700988\n",
      "    C3 = -1.0672308748335417\n",
      "    age = -0.03451238362585056\n",
      "    male gender = -2.3332454038323855\n",
      "Try p = 0.1\n",
      " Accuracy = 0.493\n",
      " Sensitivity = 0.976\n",
      " Specificity = 0.161\n",
      " Pos. Pred. Val. = 0.444\n",
      "Try p = 0.9\n",
      " Accuracy = 0.66\n",
      " Sensitivity = 0.188\n",
      " Specificity = 0.984\n",
      " Pos. Pred. Val. = 0.889\n"
     ]
    },
    {
     "data": {
      "text/plain": [
       "(0.6602870813397129,\n",
       " 0.18823529411764706,\n",
       " 0.9838709677419355,\n",
       " 0.8888888888888888)"
      ]
     },
     "execution_count": 30,
     "metadata": {},
     "output_type": "execute_result"
    }
   ],
   "source": [
    "# Look at weights\n",
    "trainingSet, testSet = split80_20(examples)\n",
    "model = buildModel(trainingSet, True)\n",
    "\n",
    "#Look at changing prob\n",
    "random.seed(0)\n",
    "trainingSet, testSet = split80_20(examples)\n",
    "model = buildModel(trainingSet, False)\n",
    "print('Try p = 0.1')\n",
    "truePos, falsePos, trueNeg, falseNeg =\\\n",
    "                  applyModel(model, testSet, 'Survived', 0.1)\n",
    "getStats(truePos, falsePos, trueNeg, falseNeg)\n",
    "print('Try p = 0.9')\n",
    "truePos, falsePos, trueNeg, falseNeg =\\\n",
    "                  applyModel(model, testSet, 'Survived', 0.9)\n",
    "getStats(truePos, falsePos, trueNeg, falseNeg)\n"
   ]
  },
  {
   "cell_type": "code",
   "execution_count": null,
   "metadata": {},
   "outputs": [],
   "source": []
  }
 ],
 "metadata": {
  "kernelspec": {
   "display_name": "Python 3",
   "language": "python",
   "name": "python3"
  },
  "language_info": {
   "codemirror_mode": {
    "name": "ipython",
    "version": 3
   },
   "file_extension": ".py",
   "mimetype": "text/x-python",
   "name": "python",
   "nbconvert_exporter": "python",
   "pygments_lexer": "ipython3",
   "version": "3.7.4"
  }
 },
 "nbformat": 4,
 "nbformat_minor": 4
}
