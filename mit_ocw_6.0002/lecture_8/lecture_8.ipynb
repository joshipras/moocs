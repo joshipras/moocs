{
 "cells": [
  {
   "cell_type": "code",
   "execution_count": 1,
   "metadata": {},
   "outputs": [
    {
     "data": {
      "text/html": [
       "<script>\n",
       "code_show=true; \n",
       "function code_toggle() {\n",
       " if (code_show){\n",
       " $('div.input').hide();\n",
       " $('#toggleButton').val('Show Code')\n",
       " } else {\n",
       " $('div.input').show();\n",
       " $('#toggleButton').val('Show Code')\n",
       " }\n",
       " code_show = !code_show\n",
       "} \n",
       "$( document ).ready(code_toggle);\n",
       "</script>\n",
       "<form action=\"javascript:code_toggle()\"><input type=\"submit\" id = \"toggleButton\" value=\"Hide Code\"></form>"
      ],
      "text/plain": [
       "<IPython.core.display.HTML object>"
      ]
     },
     "execution_count": 1,
     "metadata": {},
     "output_type": "execute_result"
    }
   ],
   "source": [
    "from IPython.display import HTML\n",
    "\n",
    "HTML('''<script>\n",
    "code_show=true; \n",
    "function code_toggle() {\n",
    " if (code_show){\n",
    " $('div.input').hide();\n",
    " $('#toggleButton').val('Show Code')\n",
    " } else {\n",
    " $('div.input').show();\n",
    " $('#toggleButton').val('Show Code')\n",
    " }\n",
    " code_show = !code_show\n",
    "} \n",
    "$( document ).ready(code_toggle);\n",
    "</script>\n",
    "<form action=\"javascript:code_toggle()\"><input type=\"submit\" id = \"toggleButton\" value=\"Hide Code\"></form>''')"
   ]
  },
  {
   "cell_type": "code",
   "execution_count": 2,
   "metadata": {},
   "outputs": [],
   "source": [
    "# Import relevant libraries\n",
    "import pandas as pd\n",
    "import random, numpy\n",
    "from IPython.display import HTML\n",
    "from matplotlib import pylab, rc\n",
    "from matplotlib import pyplot as plt\n",
    "import random, numpy\n",
    "\n",
    "# Import functions from lecture notes\n",
    "%run 'lect8.py'"
   ]
  },
  {
   "cell_type": "code",
   "execution_count": null,
   "metadata": {},
   "outputs": [],
   "source": []
  },
  {
   "cell_type": "code",
   "execution_count": 3,
   "metadata": {},
   "outputs": [
    {
     "data": {
      "text/html": [
       "<h2> Probability Sampling and Standard Error"
      ],
      "text/plain": [
       "<IPython.core.display.HTML object>"
      ]
     },
     "execution_count": 3,
     "metadata": {},
     "output_type": "execute_result"
    }
   ],
   "source": [
    "HTML('<h2> Probability Sampling and Standard Error')"
   ]
  },
  {
   "cell_type": "code",
   "execution_count": 4,
   "metadata": {},
   "outputs": [
    {
     "data": {
      "text/html": [
       "\n",
       "<li> For some experiments, like election polls that involve sampling something real, repeated polls are not possible. \n",
       "So we can't create samples by simulation, but Confidence Intervals are generated.\n",
       "<li> Probability Sampling is when each member of population has non-zero chance of being included in sample. \n",
       "<br>\n",
       "\n",
       "<p><b>Simple Random Sampling: </b></p>\n",
       "<li> Each member has equal chance of being chosen in sample.\n",
       "<br>\n",
       "\n",
       "<p><b>Stratified Sampling: </b></p>\n",
       "<li> Suppose we are sampling to check what % students at MIT are nerds and we see 60%.\n",
       "If Engineering major has most students and possibly all nerds observed are from engineering and so there is a bias.\n",
       "<li> Stratified Sampling would imply we take simple random samples from each sub-group.\n",
       "\n",
       "     \n",
       "     "
      ],
      "text/plain": [
       "<IPython.core.display.HTML object>"
      ]
     },
     "execution_count": 4,
     "metadata": {},
     "output_type": "execute_result"
    }
   ],
   "source": [
    "HTML('''\n",
    "<li> For some experiments, like election polls that involve sampling something real, repeated polls are not possible. \n",
    "So we can't create samples by simulation, but Confidence Intervals are generated.\n",
    "<li> Probability Sampling is when each member of population has non-zero chance of being included in sample. \n",
    "<br>\n",
    "\n",
    "<p><b>Simple Random Sampling: </b></p>\n",
    "<li> Each member has equal chance of being chosen in sample.\n",
    "<br>\n",
    "\n",
    "<p><b>Stratified Sampling: </b></p>\n",
    "<li> Suppose we are sampling to check what % students at MIT are nerds and we see 60%.\n",
    "If Engineering major has most students and possibly all nerds observed are from engineering and so there is a bias.\n",
    "<li> Stratified Sampling would imply we take simple random samples from each sub-group.\n",
    "\n",
    "     \n",
    "     ''')"
   ]
  },
  {
   "cell_type": "code",
   "execution_count": 5,
   "metadata": {},
   "outputs": [],
   "source": [
    "temps_df = pd.read_csv('temperatures.csv')"
   ]
  },
  {
   "cell_type": "code",
   "execution_count": 6,
   "metadata": {},
   "outputs": [
    {
     "data": {
      "text/html": [
       "\n",
       "<hr>\n",
       "\n",
       "Let's look at the distribution of a random sample drawn from the temperatures dataset and compare it to the population\n",
       "\n"
      ],
      "text/plain": [
       "<IPython.core.display.HTML object>"
      ]
     },
     "execution_count": 6,
     "metadata": {},
     "output_type": "execute_result"
    }
   ],
   "source": [
    "HTML('''\n",
    "<hr>\n",
    "\n",
    "Let's look at the distribution of a random sample drawn from the temperatures dataset and compare it to the population\n",
    "\n",
    "''')"
   ]
  },
  {
   "cell_type": "code",
   "execution_count": 7,
   "metadata": {},
   "outputs": [
    {
     "data": {
      "image/png": "[encoded data removed]",
      "text/plain": [
       "<Figure size 864x288 with 2 Axes>"
      ]
     },
     "metadata": {
      "needs_background": "light"
     },
     "output_type": "display_data"
    }
   ],
   "source": [
    "# T] plot side by side\n",
    "\n",
    "random.seed(0)         \n",
    "population = getHighs()\n",
    "# sample without replacement\n",
    "sample = random.sample(population, 100)\n",
    "\n",
    "getMeansAndSDs(population, sample, True, True)\n",
    "\n",
    "plt.show()"
   ]
  },
  {
   "cell_type": "code",
   "execution_count": 8,
   "metadata": {},
   "outputs": [
    {
     "data": {
      "text/html": [
       "\n",
       "<hr>\n",
       "\n",
       "Now let's draw 1000 samples of size 100\n"
      ],
      "text/plain": [
       "<IPython.core.display.HTML object>"
      ]
     },
     "execution_count": 8,
     "metadata": {},
     "output_type": "execute_result"
    }
   ],
   "source": [
    "HTML('''\n",
    "<hr>\n",
    "\n",
    "Now let's draw 1000 samples of size 100\n",
    "''')"
   ]
  },
  {
   "cell_type": "code",
   "execution_count": 23,
   "metadata": {},
   "outputs": [
    {
     "data": {
      "image/png": "[encoded data removed]",
      "text/plain": [
       "<Figure size 432x288 with 1 Axes>"
      ]
     },
     "metadata": {
      "needs_background": "light"
     },
     "output_type": "display_data"
    }
   ],
   "source": [
    "random.seed(0) \n",
    "population = getHighs()\n",
    "sampleSize = 100\n",
    "numSamples = 1000\n",
    "sampleMeans = []\n",
    "for i in range(numSamples):\n",
    "    sample = random.sample(population, sampleSize)\n",
    "    popMean, sampleMean, popSD, sampleSD =\\\n",
    "      getMeansAndSDs(population, sample, verbose = False)\n",
    "    sampleMeans.append(sampleMean)\n",
    "\n",
    "sm_mean = round(sum(sampleMeans)/len(sampleMeans), 3)\n",
    "sm_std = round(numpy.std(sampleMeans), 3)\n",
    "makeHist(sampleMeans, 'Means of '+str(numSamples)+' Samples of '+str(sampleSize)+' size' \n",
    "                          '\\n(mean = '  + str(sm_mean) + ')'+\\\n",
    "                         '\\n(std =' + str(sm_std) + ')','Mean', 'Frequency')\n",
    "pylab.axvline(x = popMean, color = 'r')\n",
    "\n",
    "plt.show()"
   ]
  },
  {
   "cell_type": "code",
   "execution_count": 24,
   "metadata": {},
   "outputs": [
    {
     "data": {
      "text/html": [
       "\n",
       "<li> With 1000 samples, the distribution gets closer to population, central limit theorem holds true.\n",
       "<li> 95% C.I. \n",
       "<br>    &emsp; &emsp; &emsp; = 16.29 +- (0.95 * 0.943)\n",
       "<br>    &emsp; &emsp; &emsp; = 15.39 to 17.18 \n",
       "\n",
       "<br>\n",
       "<li> Standard deviation hardly changes with number of samples.\n",
       "\n",
       "\n"
      ],
      "text/plain": [
       "<IPython.core.display.HTML object>"
      ]
     },
     "execution_count": 24,
     "metadata": {},
     "output_type": "execute_result"
    }
   ],
   "source": [
    "HTML('''\n",
    "<li> With 1000 samples, the distribution gets closer to population, central limit theorem holds true.\n",
    "<li> 95% C.I. \n",
    "<br>    &emsp; &emsp; &emsp; = 16.29 +- (0.95 * 0.943)\n",
    "<br>    &emsp; &emsp; &emsp; = 15.39 to 17.18 \n",
    "\n",
    "<br>\n",
    "<li> Standard deviation hardly changes with number of samples.\n",
    "\n",
    "\n",
    "'''\n",
    ")"
   ]
  },
  {
   "cell_type": "code",
   "execution_count": 25,
   "metadata": {},
   "outputs": [
    {
     "data": {
      "text/html": [
       "\n",
       "<hr>\n",
       "Let's analyze sample means and standard error of the mean for different sample sizes\n"
      ],
      "text/plain": [
       "<IPython.core.display.HTML object>"
      ]
     },
     "execution_count": 25,
     "metadata": {},
     "output_type": "execute_result"
    }
   ],
   "source": [
    "HTML('''\n",
    "<hr>\n",
    "Let's analyze sample means and standard error of the mean for different sample sizes\n",
    "'''\n",
    ")"
   ]
  },
  {
   "cell_type": "code",
   "execution_count": 11,
   "metadata": {},
   "outputs": [
    {
     "data": {
      "image/png": "[encoded data removed]",
      "text/plain": [
       "<Figure size 432x288 with 1 Axes>"
      ]
     },
     "metadata": {
      "needs_background": "light"
     },
     "output_type": "display_data"
    }
   ],
   "source": [
    "sampleSizes = (25, 50, 100, 200, 300, 400, 500, 600)\n",
    "numTrials = 50\n",
    "population = getHighs()\n",
    "popSD = numpy.std(population)\n",
    "sems = []\n",
    "sampleSDs = []\n",
    "for size in sampleSizes:\n",
    "    sems.append(sem(popSD, size))\n",
    "    means = []\n",
    "    for t in range(numTrials):\n",
    "        sample = random.sample(population, size)\n",
    "        means.append(sum(sample)/len(sample))\n",
    "    sampleSDs.append(numpy.std(means))\n",
    "pylab.plot(sampleSizes, sampleSDs,\n",
    "          label = 'Std of ' + str(numTrials) + ' means')\n",
    "pylab.plot(sampleSizes, sems, 'r--', label = 'SEM')\n",
    "pylab.xlabel('Sample Size')\n",
    "pylab.ylabel('Std and SEM')\n",
    "pylab.title('SD for ' + str(numTrials) + ' Means and SEM')\n",
    "pylab.legend()\n",
    "plt.show()"
   ]
  },
  {
   "cell_type": "code",
   "execution_count": 12,
   "metadata": {},
   "outputs": [
    {
     "data": {
      "text/html": [
       "\n",
       "<li> CI gets tighter as sample size increases\n",
       "\n"
      ],
      "text/plain": [
       "<IPython.core.display.HTML object>"
      ]
     },
     "execution_count": 12,
     "metadata": {},
     "output_type": "execute_result"
    }
   ],
   "source": [
    "HTML(\n",
    "'''\n",
    "<li> CI gets tighter as sample size increases\n",
    "\n",
    "''')"
   ]
  },
  {
   "cell_type": "code",
   "execution_count": 41,
   "metadata": {},
   "outputs": [
    {
     "data": {
      "text/html": [
       "\n",
       "<hr>\n",
       "<h3> Standard Error of the mean </h3>\n",
       "\n",
       "<li> Standard deviation of the sampling distribution of the mean.\n",
       "\n",
       "<li> Standard error of population mean = <b> Population S.D. / sprt(sample size)\n",
       "\n"
      ],
      "text/plain": [
       "<IPython.core.display.HTML object>"
      ]
     },
     "execution_count": 41,
     "metadata": {},
     "output_type": "execute_result"
    }
   ],
   "source": [
    "HTML('''\n",
    "<hr>\n",
    "<h3> Standard Error of the mean </h3>\n",
    "\n",
    "<li> Standard deviation of the sampling distribution of the mean.\n",
    "\n",
    "<li> Standard error of population mean = <b> Population S.D. / sprt(sample size)\n",
    "\n",
    "''')"
   ]
  },
  {
   "cell_type": "code",
   "execution_count": 14,
   "metadata": {},
   "outputs": [
    {
     "data": {
      "image/png": "[encoded data removed]",
      "text/plain": [
       "<Figure size 432x288 with 1 Axes>"
      ]
     },
     "metadata": {
      "needs_background": "light"
     },
     "output_type": "display_data"
    }
   ],
   "source": [
    "random.seed(0)\n",
    "\n",
    "sampleSizes = (25, 50, 100, 200, 300, 400, 500, 600)\n",
    "numTrials = 50\n",
    "population = getHighs()\n",
    "popSD = numpy.std(population)\n",
    "sems = []\n",
    "sampleSDs = []\n",
    "for size in sampleSizes:\n",
    "    sems.append(sem(popSD, size))\n",
    "    means = []\n",
    "    for t in range(numTrials):\n",
    "        sample = random.sample(population, size)\n",
    "        means.append(sum(sample)/len(sample))\n",
    "    sampleSDs.append(numpy.std(means))\n",
    "pylab.plot(sampleSizes, sampleSDs,\n",
    "          label = 'Std of ' + str(numTrials) + ' means')\n",
    "pylab.plot(sampleSizes, sems, 'r--', label = 'SEM')\n",
    "pylab.xlabel('Sample Size')\n",
    "pylab.ylabel('Std and SEM')\n",
    "pylab.title('SD for ' + str(numTrials) + ' Means and SEM')\n",
    "pylab.legend()\n",
    "plt.show()"
   ]
  },
  {
   "cell_type": "code",
   "execution_count": 15,
   "metadata": {},
   "outputs": [
    {
     "data": {
      "text/html": [
       "\n",
       "<li> Std. Error we get by considering 1 sample and get std error from mean\n",
       "\n",
       "<li> Std. DEV and  Std. Error get close as sample size increases\n",
       "\n"
      ],
      "text/plain": [
       "<IPython.core.display.HTML object>"
      ]
     },
     "execution_count": 15,
     "metadata": {},
     "output_type": "execute_result"
    }
   ],
   "source": [
    "HTML(\n",
    "'''\n",
    "<hr>\n",
    "<li> Std. Error we get by considering 1 sample and get std error from mean\n",
    "\n",
    "<li> Std. DEV and  Std. Error get close as sample size increases\n",
    "\n",
    "''')"
   ]
  },
  {
   "cell_type": "code",
   "execution_count": 37,
   "metadata": {},
   "outputs": [
    {
     "data": {
      "text/html": [
       "\n",
       "<hr>\n",
       "<li> True for a different distribution of population?\n",
       "<li> True for different size of population?\n",
       "<br><br>\n",
       "Consider 3 different distributions:\n"
      ],
      "text/plain": [
       "<IPython.core.display.HTML object>"
      ]
     },
     "metadata": {},
     "output_type": "display_data"
    },
    {
     "data": {
      "image/png": "[encoded data removed]",
      "text/plain": [
       "<Figure size 1296x288 with 3 Axes>"
      ]
     },
     "metadata": {
      "needs_background": "light"
     },
     "output_type": "display_data"
    }
   ],
   "source": [
    "display(HTML('''\n",
    "<hr>\n",
    "<li> True for a different distribution of population?\n",
    "<li> True for different size of population?\n",
    "<br><br>\n",
    "Consider 3 different distributions:\n",
    "'''))\n",
    "\n",
    "\n",
    "def plotDistributions():\n",
    "    uniform, normal, exp = [], [], []\n",
    "    for i in range(100000):\n",
    "        uniform.append(random.random())\n",
    "        normal.append(random.gauss(0, 1))\n",
    "        exp.append(random.expovariate(0.5))\n",
    "    plt.figure(figsize=(18,4))\n",
    "    plt.subplot(131)\n",
    "    makeHist(uniform, 'Uniform', 'Value', 'Frequency')\n",
    "#     pylab.figure()\n",
    "    plt.subplot(132)\n",
    "    makeHist(normal, 'Gaussian', 'Value', '')\n",
    "#     pylab.figure()\n",
    "    plt.subplot(133)\n",
    "    makeHist(exp, 'Exponential', 'Value', '')\n",
    "\n",
    "plotDistributions()"
   ]
  },
  {
   "cell_type": "code",
   "execution_count": 17,
   "metadata": {},
   "outputs": [
    {
     "data": {
      "text/html": [
       "\n",
       "<li> If populations is skewed, number of samples required is high</li>\n",
       "<li> Sample size does not matter</li>\n",
       "\n",
       "<hr>\n",
       "<div dir = \"rtl\">\n",
       "<ul style = 'list-style-type:square'>\n",
       "<li> End of Document\n",
       "</li>\n",
       "\n"
      ],
      "text/plain": [
       "<IPython.core.display.HTML object>"
      ]
     },
     "execution_count": 17,
     "metadata": {},
     "output_type": "execute_result"
    }
   ],
   "source": [
    "HTML(\n",
    "'''\n",
    "<li> If populations is skewed, number of samples required is high</li>\n",
    "<li> Sample size does not matter</li>\n",
    "\n",
    "<hr>\n",
    "<div dir = \"rtl\">\n",
    "<ul style = 'list-style-type:square'>\n",
    "<li> End of Document\n",
    "</li>\n",
    "\n",
    "'''\n",
    "\n",
    ")"
   ]
  },
  {
   "cell_type": "code",
   "execution_count": 42,
   "metadata": {},
   "outputs": [
    {
     "data": {
      "text/html": [
       "<script>\n",
       "$(document).ready(function(){\n",
       "    $('div.prompt').hide();\n",
       "    $('div.back-to-top').hide();\n",
       "    $('nav#menubar').hide();\n",
       "    $('.breadcrumb').hide();\n",
       "    $('.hidden-print').hide();\n",
       " });\n",
       "</script>\n"
      ],
      "text/plain": [
       "<IPython.core.display.HTML object>"
      ]
     },
     "execution_count": 42,
     "metadata": {},
     "output_type": "execute_result"
    }
   ],
   "source": [
    "HTML('''<script>\n",
    "$(document).ready(function(){\n",
    "    $('div.prompt').hide();\n",
    "    $('div.back-to-top').hide();\n",
    "    $('nav#menubar').hide();\n",
    "    $('.breadcrumb').hide();\n",
    "    $('.hidden-print').hide();\n",
    " });\n",
    "</script>\n",
    "''')"
   ]
  },
  {
   "cell_type": "code",
   "execution_count": null,
   "metadata": {},
   "outputs": [],
   "source": []
  }
 ],
 "metadata": {
  "kernelspec": {
   "display_name": "Python 3",
   "language": "python",
   "name": "python3"
  },
  "language_info": {
   "codemirror_mode": {
    "name": "ipython",
    "version": 3
   },
   "file_extension": ".py",
   "mimetype": "text/x-python",
   "name": "python",
   "nbconvert_exporter": "python",
   "pygments_lexer": "ipython3",
   "version": "3.7.4"
  }
 },
 "nbformat": 4,
 "nbformat_minor": 2
}
