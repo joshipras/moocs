{
 "cells": [
  {
   "cell_type": "code",
   "execution_count": 1,
   "metadata": {},
   "outputs": [],
   "source": [
    "import pandas as pd\n",
    "import random\n",
    "import numpy\n",
    "from IPython.display import HTML\n",
    "from matplotlib import pylab\n",
    "from matplotlib import pyplot as plt\n",
    "from IPython.display import Image\n",
    "\n"
   ]
  },
  {
   "cell_type": "code",
   "execution_count": 24,
   "metadata": {},
   "outputs": [],
   "source": [
    "%run lecture14.py"
   ]
  },
  {
   "cell_type": "markdown",
   "metadata": {},
   "source": [
    "<h2>Classification and Statistical Sins </h2>\n",
    "    \n",
    "From previous lecture let's look at the Accuracy, Sensitivity, Specificity with KNN = 3, Logistic Regression with p = 0.5."
   ]
  },
  {
   "cell_type": "markdown",
   "metadata": {},
   "source": [
    "<li> C1, C2, C3 are classes are dependant, only one of those will be a 1 for each passenger.\n",
    "<li> Since C1 + C2 + C3 = 1, classes are dependant.\n",
    "<li> Class Passenger method edited by eliminating class 1.\n",
    "   \n",
    "    "
   ]
  },
  {
   "cell_type": "code",
   "execution_count": null,
   "metadata": {},
   "outputs": [],
   "source": []
  },
  {
   "cell_type": "code",
   "execution_count": 14,
   "metadata": {},
   "outputs": [
    {
     "name": "stdout",
     "output_type": "stream",
     "text": [
      "model.classes_ = ['Died' 'Survived']\n",
      "For label Survived\n",
      "    C2 = -1.038038086122477\n",
      "    C3 = -2.1511293996204897\n",
      "    age = -0.033724133684728\n",
      "    male gender = -2.421829377718273\n",
      "Try p = 0.1\n",
      " Accuracy = 0.493\n",
      " Sensitivity = 0.976\n",
      " Specificity = 0.161\n",
      " Pos. Pred. Val. = 0.444\n",
      "Try p = 0.9\n",
      " Accuracy = 0.656\n",
      " Sensitivity = 0.176\n",
      " Specificity = 0.984\n",
      " Pos. Pred. Val. = 0.882\n"
     ]
    },
    {
     "data": {
      "text/plain": [
       "(0.6555023923444976,\n",
       " 0.17647058823529413,\n",
       " 0.9838709677419355,\n",
       " 0.8823529411764706)"
      ]
     },
     "execution_count": 14,
     "metadata": {},
     "output_type": "execute_result"
    }
   ],
   "source": [
    "# Look at weights\n",
    "trainingSet, testSet = split80_20(examples)\n",
    "model = buildModel(trainingSet, True)\n",
    "\n",
    "#Look at changing prob\n",
    "random.seed(0)\n",
    "trainingSet, testSet = split80_20(examples)\n",
    "model = buildModel(trainingSet, False)\n",
    "print('Try p = 0.1')\n",
    "truePos, falsePos, trueNeg, falseNeg =\\\n",
    "                  applyModel(model, testSet, 'Survived', 0.1)\n",
    "getStats(truePos, falsePos, trueNeg, falseNeg)\n",
    "print('Try p = 0.9')\n",
    "truePos, falsePos, trueNeg, falseNeg =\\\n",
    "                  applyModel(model, testSet, 'Survived', 0.9)\n",
    "getStats(truePos, falsePos, trueNeg, falseNeg)\n"
   ]
  },
  {
   "cell_type": "markdown",
   "metadata": {},
   "source": [
    "<li> The weights for 2 classes change drastically. This demonstrates that correlated features need to be chaked and accounted for,\n",
    "\n"
   ]
  },
  {
   "cell_type": "markdown",
   "metadata": {},
   "source": [
    "<h2> Changing the cut-off for logistinc regression"
   ]
  },
  {
   "cell_type": "code",
   "execution_count": 9,
   "metadata": {},
   "outputs": [
    {
     "name": "stdout",
     "output_type": "stream",
     "text": [
      "model.classes_ = ['Died' 'Survived']\n",
      "For label Survived\n",
      "    C2 = -1.038038086122477\n",
      "    C3 = -2.1511293996204897\n",
      "    age = -0.033724133684728\n",
      "    male gender = -2.421829377718273\n",
      "Try p = 0.1\n",
      " Accuracy = 0.493\n",
      " Sensitivity = 0.976\n",
      " Specificity = 0.161\n",
      " Pos. Pred. Val. = 0.444\n",
      "Try p = 0.9\n",
      " Accuracy = 0.656\n",
      " Sensitivity = 0.176\n",
      " Specificity = 0.984\n",
      " Pos. Pred. Val. = 0.882\n"
     ]
    },
    {
     "data": {
      "text/plain": [
       "(0.6555023923444976,\n",
       " 0.17647058823529413,\n",
       " 0.9838709677419355,\n",
       " 0.8823529411764706)"
      ]
     },
     "execution_count": 9,
     "metadata": {},
     "output_type": "execute_result"
    }
   ],
   "source": [
    "#Look at changing prob\n",
    "\n",
    "\n",
    "# More important to not miss survivers: p = 0.1\n",
    "\n",
    "random.seed(0)\n",
    "trainingSet, testSet = split80_20(examples)\n",
    "model = buildModel(trainingSet, False)\n",
    "print('Try p = 0.1')\n",
    "truePos, falsePos, trueNeg, falseNeg =\\\n",
    "                  applyModel(model, testSet, 'Survived', 0.1)\n",
    "getStats(truePos, falsePos, trueNeg, falseNeg)\n",
    "print('Try p = 0.9')\n",
    "truePos, falsePos, trueNeg, falseNeg =\\\n",
    "                  applyModel(model, testSet, 'Survived', 0.9)\n",
    "getStats(truePos, falsePos, trueNeg, falseNeg)\n"
   ]
  },
  {
   "cell_type": "markdown",
   "metadata": {},
   "source": [
    "<li> Specificity: If we predict survivers, they probabiliy did. \n",
    "<li> Sensitivity: for most survivors, we predicted they died.\n",
    "    \n",
    "If we want to advice insurance company about who to insure, increasing p ensures, policy is awarded to predicted survivers, most of whom really survived. The upshot is though, very less policies alotted.\n",
    "    \n"
   ]
  },
  {
   "cell_type": "markdown",
   "metadata": {},
   "source": [
    "<h2> Reciever Operating Curve </h2>\n",
    "    "
   ]
  },
  {
   "cell_type": "markdown",
   "metadata": {},
   "source": [
    "Sensitivity vs 1-Specificity"
   ]
  },
  {
   "cell_type": "code",
   "execution_count": 18,
   "metadata": {},
   "outputs": [],
   "source": [
    "def buildROC(trainingSet, testSet, title, plot = True):\n",
    "    model = buildModel(trainingSet, True)\n",
    "    xVals, yVals = [], []\n",
    "    p = 0.0\n",
    "    while p <= 1.0:\n",
    "        truePos, falsePos, trueNeg, falseNeg =\\\n",
    "                               applyModel(model, testSet,\n",
    "                               'Survived', p)\n",
    "        xVals.append(1.0 - specificity(trueNeg, falsePos))\n",
    "        yVals.append(sensitivity(truePos, falseNeg))\n",
    "        p += 0.01\n",
    "    auroc = sklearn.metrics.auc(xVals, yVals, True)\n",
    "    if plot:\n",
    "        pylab.plot(xVals, yVals)\n",
    "        pylab.plot([0,1], [0,1])\n",
    "        title = title + '\\nAUROC = ' + str(round(auroc,3))\n",
    "        pylab.title(title)\n",
    "        pylab.xlabel('1 - specificity')\n",
    "        pylab.ylabel('Sensitivity')\n",
    "    return auroc\n",
    "\n"
   ]
  },
  {
   "cell_type": "code",
   "execution_count": 26,
   "metadata": {},
   "outputs": [
    {
     "name": "stdout",
     "output_type": "stream",
     "text": [
      "model.classes_ = ['Died' 'Survived']\n",
      "For label Survived\n",
      "    C2 = -1.3714731011951224\n",
      "    C3 = -2.2428284865863715\n",
      "    age = -0.03746028761976199\n",
      "    male gender = -2.287702791304258\n"
     ]
    },
    {
     "data": {
      "text/plain": [
       "0.860246679316888"
      ]
     },
     "execution_count": 26,
     "metadata": {},
     "output_type": "execute_result"
    },
    {
     "data": {
      "image/png": "[encoded data removed]",
      "text/plain": [
       "<Figure size 432x288 with 1 Axes>"
      ]
     },
     "metadata": {
      "needs_background": "light"
     },
     "output_type": "display_data"
    }
   ],
   "source": [
    "random.seed(0)\n",
    "trainingSet, testSet = split80_20(examples)\n",
    "buildROC(trainingSet, testSet, 'ROC for Predicting Survival, 1 Split')"
   ]
  },
  {
   "cell_type": "markdown",
   "metadata": {},
   "source": [
    "<li> The reason for plotting Sensitivity vs 1-Specificity instead of Specificity is that we can calculate Area Under the Curve. "
   ]
  },
  {
   "cell_type": "code",
   "execution_count": null,
   "metadata": {},
   "outputs": [],
   "source": []
  }
 ],
 "metadata": {
  "kernelspec": {
   "display_name": "Python 3",
   "language": "python",
   "name": "python3"
  },
  "language_info": {
   "codemirror_mode": {
    "name": "ipython",
    "version": 3
   },
   "file_extension": ".py",
   "mimetype": "text/x-python",
   "name": "python",
   "nbconvert_exporter": "python",
   "pygments_lexer": "ipython3",
   "version": "3.7.4"
  }
 },
 "nbformat": 4,
 "nbformat_minor": 4
}
