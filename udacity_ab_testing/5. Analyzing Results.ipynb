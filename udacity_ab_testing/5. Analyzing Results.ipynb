{
 "cells": [
  {
   "cell_type": "code",
   "execution_count": 8,
   "metadata": {},
   "outputs": [
    {
     "data": {
      "text/html": [
       "<script>\n",
       "code_show=true; \n",
       "function code_toggle() {\n",
       " if (code_show){\n",
       " $('div.input').hide();\n",
       " $('#toggleButton').val('Show Code')\n",
       " } else {\n",
       " $('div.input').show();\n",
       " $('#toggleButton').val('Hide Code')\n",
       " }\n",
       " code_show = !code_show\n",
       "} \n",
       "$( document ).ready(code_toggle);\n",
       "</script>\n",
       "<form action=\"javascript:code_toggle()\"><input type=\"submit\" id = \"toggleButton\" value=\"Hide Code\"></form>"
      ],
      "text/plain": [
       "<IPython.core.display.HTML object>"
      ]
     },
     "execution_count": 8,
     "metadata": {},
     "output_type": "execute_result"
    }
   ],
   "source": [
    "from IPython.display import HTML\n",
    "\n",
    "HTML('''<script>\n",
    "code_show=true; \n",
    "function code_toggle() {\n",
    " if (code_show){\n",
    " $('div.input').hide();\n",
    " $('#toggleButton').val('Show Code')\n",
    " } else {\n",
    " $('div.input').show();\n",
    " $('#toggleButton').val('Hide Code')\n",
    " }\n",
    " code_show = !code_show\n",
    "} \n",
    "$( document ).ready(code_toggle);\n",
    "</script>\n",
    "<form action=\"javascript:code_toggle()\"><input type=\"submit\" id = \"toggleButton\" value=\"Hide Code\"></form>''')\n",
    "\n"
   ]
  },
  {
   "cell_type": "code",
   "execution_count": 9,
   "metadata": {},
   "outputs": [],
   "source": [
    "import pandas as pd\n"
   ]
  },
  {
   "cell_type": "markdown",
   "metadata": {},
   "source": [
    "<h1><center>Lesson 5: Analyzing Results</center></h1>\n"
   ]
  },
  {
   "cell_type": "markdown",
   "metadata": {},
   "source": [
    "### 1. Sanity Checks:\n",
    "    \n",
    "- Things can go wrong that can invalidate results. Eg. Filter differently in control and experiment/ data capture not correct, etc.\n",
    "\n",
    "- Two main types of Checks:\n",
    "    * Population Sizing Metrics: Check if experiment and control populations are comparable. If there is a difference between sizes of 2 groups, check it is statistically significant\n",
    "    \n",
    "    * Invariant metrics: Check that invariant metrics didn't change when you ran your experiment."
   ]
  },
  {
   "cell_type": "markdown",
   "metadata": {},
   "source": [
    "Population Sizing Example: Consider an experiment run for 7 days\n",
    "    \n",
    "    "
   ]
  },
  {
   "cell_type": "code",
   "execution_count": 72,
   "metadata": {},
   "outputs": [
    {
     "data": {
      "text/html": [
       "<style  type=\"text/css\" >\n",
       "    #T_3862bc94_ab8b_11ea_aa7b_acde48001122row7_col0 {\n",
       "            font-weight:  bold;\n",
       "        }    #T_3862bc94_ab8b_11ea_aa7b_acde48001122row7_col1 {\n",
       "            font-weight:  bold;\n",
       "        }    #T_3862bc94_ab8b_11ea_aa7b_acde48001122row7_col2 {\n",
       "            font-weight:  bold;\n",
       "        }</style><table id=\"T_3862bc94_ab8b_11ea_aa7b_acde48001122\" ><thead>    <tr>        <th class=\"col_heading level0 col0\" >Day</th>        <th class=\"col_heading level0 col1\" >Control</th>        <th class=\"col_heading level0 col2\" >Experiment</th>    </tr></thead><tbody>\n",
       "                <tr>\n",
       "                                <td id=\"T_3862bc94_ab8b_11ea_aa7b_acde48001122row0_col0\" class=\"data row0 col0\" >Mon</td>\n",
       "                        <td id=\"T_3862bc94_ab8b_11ea_aa7b_acde48001122row0_col1\" class=\"data row0 col1\" >2,451</td>\n",
       "                        <td id=\"T_3862bc94_ab8b_11ea_aa7b_acde48001122row0_col2\" class=\"data row0 col2\" >2,404</td>\n",
       "            </tr>\n",
       "            <tr>\n",
       "                                <td id=\"T_3862bc94_ab8b_11ea_aa7b_acde48001122row1_col0\" class=\"data row1 col0\" >Tue</td>\n",
       "                        <td id=\"T_3862bc94_ab8b_11ea_aa7b_acde48001122row1_col1\" class=\"data row1 col1\" >2,475</td>\n",
       "                        <td id=\"T_3862bc94_ab8b_11ea_aa7b_acde48001122row1_col2\" class=\"data row1 col2\" >2,507</td>\n",
       "            </tr>\n",
       "            <tr>\n",
       "                                <td id=\"T_3862bc94_ab8b_11ea_aa7b_acde48001122row2_col0\" class=\"data row2 col0\" >Wed</td>\n",
       "                        <td id=\"T_3862bc94_ab8b_11ea_aa7b_acde48001122row2_col1\" class=\"data row2 col1\" >2,394</td>\n",
       "                        <td id=\"T_3862bc94_ab8b_11ea_aa7b_acde48001122row2_col2\" class=\"data row2 col2\" >2,376</td>\n",
       "            </tr>\n",
       "            <tr>\n",
       "                                <td id=\"T_3862bc94_ab8b_11ea_aa7b_acde48001122row3_col0\" class=\"data row3 col0\" >Thu</td>\n",
       "                        <td id=\"T_3862bc94_ab8b_11ea_aa7b_acde48001122row3_col1\" class=\"data row3 col1\" >2,482</td>\n",
       "                        <td id=\"T_3862bc94_ab8b_11ea_aa7b_acde48001122row3_col2\" class=\"data row3 col2\" >2,444</td>\n",
       "            </tr>\n",
       "            <tr>\n",
       "                                <td id=\"T_3862bc94_ab8b_11ea_aa7b_acde48001122row4_col0\" class=\"data row4 col0\" >Fri</td>\n",
       "                        <td id=\"T_3862bc94_ab8b_11ea_aa7b_acde48001122row4_col1\" class=\"data row4 col1\" >2,374</td>\n",
       "                        <td id=\"T_3862bc94_ab8b_11ea_aa7b_acde48001122row4_col2\" class=\"data row4 col2\" >2,504</td>\n",
       "            </tr>\n",
       "            <tr>\n",
       "                                <td id=\"T_3862bc94_ab8b_11ea_aa7b_acde48001122row5_col0\" class=\"data row5 col0\" >Sat</td>\n",
       "                        <td id=\"T_3862bc94_ab8b_11ea_aa7b_acde48001122row5_col1\" class=\"data row5 col1\" >1,704</td>\n",
       "                        <td id=\"T_3862bc94_ab8b_11ea_aa7b_acde48001122row5_col2\" class=\"data row5 col2\" >1,612</td>\n",
       "            </tr>\n",
       "            <tr>\n",
       "                                <td id=\"T_3862bc94_ab8b_11ea_aa7b_acde48001122row6_col0\" class=\"data row6 col0\" >Sun</td>\n",
       "                        <td id=\"T_3862bc94_ab8b_11ea_aa7b_acde48001122row6_col1\" class=\"data row6 col1\" >1,468</td>\n",
       "                        <td id=\"T_3862bc94_ab8b_11ea_aa7b_acde48001122row6_col2\" class=\"data row6 col2\" >1,465</td>\n",
       "            </tr>\n",
       "            <tr>\n",
       "                                <td id=\"T_3862bc94_ab8b_11ea_aa7b_acde48001122row7_col0\" class=\"data row7 col0\" >Total</td>\n",
       "                        <td id=\"T_3862bc94_ab8b_11ea_aa7b_acde48001122row7_col1\" class=\"data row7 col1\" >15,348</td>\n",
       "                        <td id=\"T_3862bc94_ab8b_11ea_aa7b_acde48001122row7_col2\" class=\"data row7 col2\" >15,312</td>\n",
       "            </tr>\n",
       "    </tbody></table>"
      ],
      "text/plain": [
       "<pandas.io.formats.style.Styler at 0x11bf92950>"
      ]
     },
     "execution_count": 72,
     "metadata": {},
     "output_type": "execute_result"
    }
   ],
   "source": [
    "days = ['Mon','Tue','Wed','Thu','Fri','Sat','Sun','Total']\n",
    "cont = [2451,2475,2394,2482,2374,1704,1468,15348]\n",
    "exp = [2404,2507,2376,2444,2504,1612,1465,15312]\n",
    "\n",
    "\n",
    "pop_df = pd.DataFrame(\n",
    "            {'Day': days,\n",
    "            'Control': cont,\n",
    "             'Experiment': exp\n",
    "            })\n",
    "\n",
    "\n",
    "def highlight_max(x):\n",
    "    return ['font-weight: bold' if v==x.loc[7] else ''\n",
    "                for v in x]\n",
    "\n",
    "pop_df['Control'] = pop_df['Control'].astype(int).apply(lambda x : '{0:,}'.format(x))\n",
    "pop_df['Experiment'] = pop_df['Experiment'].astype(int).apply(lambda x : '{0:,}'.format(x))\n",
    "\n",
    "pop_df.style.apply(highlight_max).hide_index()"
   ]
  },
  {
   "cell_type": "markdown",
   "metadata": {},
   "source": [
    "Margin of Error for a Binomial (Use Normal in this case since N is high) with probability 0.5 of success (being assigned to control group) = <br>\n",
    "\n",
    "<b>Margin of Error </b>\n",
    "\n",
    "m = Z x S.E.\n",
    "\n",
    "\n",
    "&nbsp; = Z x $\\sqrt\\frac{\\hat(p)(1-\\hat(p))}{N}$\n",
    "\n",
    "&nbsp; = 1.96 x $\\sqrt\\frac{\\hat(0.5)(1-\\hat(0.5))}{30660}$\n",
    "\n",
    "&nbsp; = 0.00559680274\n",
    "\n",
    "<b>Confidence Interval</b>\n",
    "\n",
    "C.I. = 0.5 $\\pm$ 0.00559680274 <br>\n",
    "\n",
    "&nbsp; = 0.4944 to 0.5055\n",
    "\n",
    "<b>Check if observed fraction within this interval:</b>\n",
    "\n",
    "$\\hat{p} = \\frac{X}{N}$ <br>\n",
    "$\\hat{p} = \\frac{15348}{15348 + 15312}$ = 0.5005\n",
    "\n",
    "Since 0.5005 is within the CI, this passes the sanity test.\n",
    "\n",
    "\n"
   ]
  },
  {
   "cell_type": "markdown",
   "metadata": {},
   "source": [
    "### 2. Single Evaluation Metric\n",
    "\n",
    "* Goal is to make a business decision about whether experiment has favorably impacted your metrics.\n",
    "* Analytically, it means we want to decide if we see a statistically significant result of the experiment."
   ]
  },
  {
   "cell_type": "code",
   "execution_count": null,
   "metadata": {},
   "outputs": [],
   "source": [
    "Xs_cont = [196, 200, 200, 216, 212, 185, 225, 187, 205, 211, 192, 196, 223, 192]\n",
    "Ns_cont = [2029, 1991, 1951, 1985, 1973, 2021, 2041, 1980, 1951, 1988, 1977, 2019, 2035, 2007]\n",
    "Xs_exp = [179, 208, 205, 175, 191, 291, 278, 216, 225, 207, 205, 200, 297, 299]\n",
    "Ns_exp = [1971, 2009, 2049, 2015, 2027, 1979, 1959, 2020, 2049, 2012, 2023, 1981, 1965, 1993]\n",
    "\n"
   ]
  },
  {
   "cell_type": "markdown",
   "metadata": {},
   "source": [
    "\n",
    "<hr>\n",
    "<div dir = \"rtl\">\n",
    "<ul style = 'list-style-type:square'>\n",
    "<li> End of Document\n",
    "</li>\n"
   ]
  }
 ],
 "metadata": {
  "kernelspec": {
   "display_name": "Python 3",
   "language": "python",
   "name": "python3"
  },
  "language_info": {
   "codemirror_mode": {
    "name": "ipython",
    "version": 3
   },
   "file_extension": ".py",
   "mimetype": "text/x-python",
   "name": "python",
   "nbconvert_exporter": "python",
   "pygments_lexer": "ipython3",
   "version": "3.7.4"
  }
 },
 "nbformat": 4,
 "nbformat_minor": 4
}
