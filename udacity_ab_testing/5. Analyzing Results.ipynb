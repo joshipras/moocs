{
 "cells": [
  {
   "cell_type": "code",
   "execution_count": 8,
   "metadata": {},
   "outputs": [
    {
     "data": {
      "text/html": [
       "<script>\n",
       "code_show=true; \n",
       "function code_toggle() {\n",
       " if (code_show){\n",
       " $('div.input').hide();\n",
       " $('#toggleButton').val('Show Code')\n",
       " } else {\n",
       " $('div.input').show();\n",
       " $('#toggleButton').val('Hide Code')\n",
       " }\n",
       " code_show = !code_show\n",
       "} \n",
       "$( document ).ready(code_toggle);\n",
       "</script>\n",
       "<form action=\"javascript:code_toggle()\"><input type=\"submit\" id = \"toggleButton\" value=\"Hide Code\"></form>"
      ],
      "text/plain": [
       "<IPython.core.display.HTML object>"
      ]
     },
     "execution_count": 8,
     "metadata": {},
     "output_type": "execute_result"
    }
   ],
   "source": [
    "from IPython.display import HTML\n",
    "\n",
    "HTML('''<script>\n",
    "code_show=true; \n",
    "function code_toggle() {\n",
    " if (code_show){\n",
    " $('div.input').hide();\n",
    " $('#toggleButton').val('Show Code')\n",
    " } else {\n",
    " $('div.input').show();\n",
    " $('#toggleButton').val('Hide Code')\n",
    " }\n",
    " code_show = !code_show\n",
    "} \n",
    "$( document ).ready(code_toggle);\n",
    "</script>\n",
    "<form action=\"javascript:code_toggle()\"><input type=\"submit\" id = \"toggleButton\" value=\"Hide Code\"></form>''')\n",
    "\n"
   ]
  },
  {
   "cell_type": "code",
   "execution_count": 9,
   "metadata": {},
   "outputs": [],
   "source": [
    "import pandas as pd\n"
   ]
  },
  {
   "cell_type": "markdown",
   "metadata": {},
   "source": [
    "<h1><center>Lesson 5: Analyzing Results</center></h1>\n"
   ]
  },
  {
   "cell_type": "markdown",
   "metadata": {},
   "source": [
    "### 1. Sanity Checks:\n",
    "    \n",
    "- Things can go wrong that can invalidate results. Eg. Filter differently in control and experiment/ data capture not correct, etc.\n",
    "\n",
    "- Two main types of Checks:\n",
    "    * Population Sizing Metrics: Check if experiment and control populations are comparable. If there is a difference between sizes of 2 groups, check it is statistically significant\n",
    "    \n",
    "    * Invariant metrics: Check that invariant metrics didn't change when you ran your experiment."
   ]
  },
  {
   "cell_type": "markdown",
   "metadata": {},
   "source": [
    "Population Sizing Example: Consider an experiment run for 7 days\n",
    "    \n",
    "    "
   ]
  },
  {
   "cell_type": "code",
   "execution_count": 72,
   "metadata": {},
   "outputs": [
    {
     "data": {
      "text/html": [
       "<style  type=\"text/css\" >\n",
       "    #T_3862bc94_ab8b_11ea_aa7b_acde48001122row7_col0 {\n",
       "            font-weight:  bold;\n",
       "        }    #T_3862bc94_ab8b_11ea_aa7b_acde48001122row7_col1 {\n",
       "            font-weight:  bold;\n",
       "        }    #T_3862bc94_ab8b_11ea_aa7b_acde48001122row7_col2 {\n",
       "            font-weight:  bold;\n",
       "        }</style><table id=\"T_3862bc94_ab8b_11ea_aa7b_acde48001122\" ><thead>    <tr>        <th class=\"col_heading level0 col0\" >Day</th>        <th class=\"col_heading level0 col1\" >Control</th>        <th class=\"col_heading level0 col2\" >Experiment</th>    </tr></thead><tbody>\n",
       "                <tr>\n",
       "                                <td id=\"T_3862bc94_ab8b_11ea_aa7b_acde48001122row0_col0\" class=\"data row0 col0\" >Mon</td>\n",
       "                        <td id=\"T_3862bc94_ab8b_11ea_aa7b_acde48001122row0_col1\" class=\"data row0 col1\" >2,451</td>\n",
       "                        <td id=\"T_3862bc94_ab8b_11ea_aa7b_acde48001122row0_col2\" class=\"data row0 col2\" >2,404</td>\n",
       "            </tr>\n",
       "            <tr>\n",
       "                                <td id=\"T_3862bc94_ab8b_11ea_aa7b_acde48001122row1_col0\" class=\"data row1 col0\" >Tue</td>\n",
       "                        <td id=\"T_3862bc94_ab8b_11ea_aa7b_acde48001122row1_col1\" class=\"data row1 col1\" >2,475</td>\n",
       "                        <td id=\"T_3862bc94_ab8b_11ea_aa7b_acde48001122row1_col2\" class=\"data row1 col2\" >2,507</td>\n",
       "            </tr>\n",
       "            <tr>\n",
       "                                <td id=\"T_3862bc94_ab8b_11ea_aa7b_acde48001122row2_col0\" class=\"data row2 col0\" >Wed</td>\n",
       "                        <td id=\"T_3862bc94_ab8b_11ea_aa7b_acde48001122row2_col1\" class=\"data row2 col1\" >2,394</td>\n",
       "                        <td id=\"T_3862bc94_ab8b_11ea_aa7b_acde48001122row2_col2\" class=\"data row2 col2\" >2,376</td>\n",
       "            </tr>\n",
       "            <tr>\n",
       "                                <td id=\"T_3862bc94_ab8b_11ea_aa7b_acde48001122row3_col0\" class=\"data row3 col0\" >Thu</td>\n",
       "                        <td id=\"T_3862bc94_ab8b_11ea_aa7b_acde48001122row3_col1\" class=\"data row3 col1\" >2,482</td>\n",
       "                        <td id=\"T_3862bc94_ab8b_11ea_aa7b_acde48001122row3_col2\" class=\"data row3 col2\" >2,444</td>\n",
       "            </tr>\n",
       "            <tr>\n",
       "                                <td id=\"T_3862bc94_ab8b_11ea_aa7b_acde48001122row4_col0\" class=\"data row4 col0\" >Fri</td>\n",
       "                        <td id=\"T_3862bc94_ab8b_11ea_aa7b_acde48001122row4_col1\" class=\"data row4 col1\" >2,374</td>\n",
       "                        <td id=\"T_3862bc94_ab8b_11ea_aa7b_acde48001122row4_col2\" class=\"data row4 col2\" >2,504</td>\n",
       "            </tr>\n",
       "            <tr>\n",
       "                                <td id=\"T_3862bc94_ab8b_11ea_aa7b_acde48001122row5_col0\" class=\"data row5 col0\" >Sat</td>\n",
       "                        <td id=\"T_3862bc94_ab8b_11ea_aa7b_acde48001122row5_col1\" class=\"data row5 col1\" >1,704</td>\n",
       "                        <td id=\"T_3862bc94_ab8b_11ea_aa7b_acde48001122row5_col2\" class=\"data row5 col2\" >1,612</td>\n",
       "            </tr>\n",
       "            <tr>\n",
       "                                <td id=\"T_3862bc94_ab8b_11ea_aa7b_acde48001122row6_col0\" class=\"data row6 col0\" >Sun</td>\n",
       "                        <td id=\"T_3862bc94_ab8b_11ea_aa7b_acde48001122row6_col1\" class=\"data row6 col1\" >1,468</td>\n",
       "                        <td id=\"T_3862bc94_ab8b_11ea_aa7b_acde48001122row6_col2\" class=\"data row6 col2\" >1,465</td>\n",
       "            </tr>\n",
       "            <tr>\n",
       "                                <td id=\"T_3862bc94_ab8b_11ea_aa7b_acde48001122row7_col0\" class=\"data row7 col0\" >Total</td>\n",
       "                        <td id=\"T_3862bc94_ab8b_11ea_aa7b_acde48001122row7_col1\" class=\"data row7 col1\" >15,348</td>\n",
       "                        <td id=\"T_3862bc94_ab8b_11ea_aa7b_acde48001122row7_col2\" class=\"data row7 col2\" >15,312</td>\n",
       "            </tr>\n",
       "    </tbody></table>"
      ],
      "text/plain": [
       "<pandas.io.formats.style.Styler at 0x11bf92950>"
      ]
     },
     "execution_count": 72,
     "metadata": {},
     "output_type": "execute_result"
    }
   ],
   "source": [
    "days = ['Mon','Tue','Wed','Thu','Fri','Sat','Sun','Total']\n",
    "cont = [2451,2475,2394,2482,2374,1704,1468,15348]\n",
    "exp = [2404,2507,2376,2444,2504,1612,1465,15312]\n",
    "\n",
    "\n",
    "pop_df = pd.DataFrame(\n",
    "            {'Day': days,\n",
    "            'Control': cont,\n",
    "             'Experiment': exp\n",
    "            })\n",
    "\n",
    "\n",
    "def highlight_max(x):\n",
    "    return ['font-weight: bold' if v==x.loc[7] else ''\n",
    "                for v in x]\n",
    "\n",
    "pop_df['Control'] = pop_df['Control'].astype(int).apply(lambda x : '{0:,}'.format(x))\n",
    "pop_df['Experiment'] = pop_df['Experiment'].astype(int).apply(lambda x : '{0:,}'.format(x))\n",
    "\n",
    "pop_df.style.apply(highlight_max).hide_index()"
   ]
  },
  {
   "cell_type": "markdown",
   "metadata": {},
   "source": [
    "Margin of Error for a Binomial (Use Normal in this case since N is high) with probability 0.5 of success (being assigned to control group) = <br>\n",
    "\n",
    "<b>Margin of Error </b>\n",
    "\n",
    "m = Z x S.E.\n",
    "\n",
    "\n",
    "&nbsp; = Z x $\\sqrt\\frac{\\hat(p)(1-\\hat(p))}{N}$\n",
    "\n",
    "&nbsp; = 1.96 x $\\sqrt\\frac{\\hat(0.5)(1-\\hat(0.5))}{30660}$\n",
    "\n",
    "&nbsp; = 0.00559680274\n",
    "\n",
    "<b>Confidence Interval</b>\n",
    "\n",
    "C.I. = 0.5 $\\pm$ 0.00559680274 <br>\n",
    "\n",
    "&nbsp; = 0.4944 to 0.5055\n",
    "\n",
    "<b>Check if observed fraction within this interval:</b>\n",
    "\n",
    "$\\hat{p} = \\frac{X}{N}$ <br>\n",
    "$\\hat{p} = \\frac{15348}{15348 + 15312}$ = 0.5005\n",
    "\n",
    "Since 0.5005 is within the CI, this passes the sanity test.\n",
    "\n",
    "\n"
   ]
  },
  {
   "cell_type": "markdown",
   "metadata": {},
   "source": [
    "### 2. Single Evaluation Metric\n",
    "\n",
    "* Goal is to make a business decision about whether experiment has favorably impacted your metrics.\n",
    "* Analytically, it means we want to decide if we see a statistically significant result of the experiment."
   ]
  },
  {
   "cell_type": "markdown",
   "metadata": {},
   "source": [
    "#### Simpson's Paradox\n",
    "\n",
    "> <i>A trend appears in several different groups of data but disappears or reverses when these groups are combined.</i>\n"
   ]
  },
  {
   "cell_type": "code",
   "execution_count": 82,
   "metadata": {},
   "outputs": [],
   "source": [
    "labels = ['New Users','Experienced Users','Total']\n",
    "n_cont = ['150,000','100,000','250,000']\n",
    "n_exp = ['75,000','175,000','250,000']\n",
    "X_cont_ctr = ['30,000 (20%)','1,000 (1%)','31,000 (12.4%)']\n",
    "X_exp_ctr = ['18,750 (25%)','3,500 (2%)','22,250 (8.9%)']\n",
    "\n",
    "\n",
    "sp_df = pd.DataFrame(\n",
    "            {'':labels,\n",
    "            'N_Cont': n_cont,\n",
    "            'X_Cont (CTR)': X_cont_ctr,\n",
    "             'N_Exp': n_exp,\n",
    "             'X_Exp (CTR)':X_exp_ctr\n",
    "            })\n"
   ]
  },
  {
   "cell_type": "code",
   "execution_count": 84,
   "metadata": {},
   "outputs": [
    {
     "data": {
      "text/html": [
       "<style  type=\"text/css\" >\n",
       "</style><table id=\"T_f331f588_ac1e_11ea_aa7b_acde48001122\" ><thead>    <tr>        <th class=\"col_heading level0 col0\" ></th>        <th class=\"col_heading level0 col1\" >N_Cont</th>        <th class=\"col_heading level0 col2\" >X_Cont (CTR)</th>        <th class=\"col_heading level0 col3\" >N_Exp</th>        <th class=\"col_heading level0 col4\" >X_Exp (CTR)</th>    </tr></thead><tbody>\n",
       "                <tr>\n",
       "                                <td id=\"T_f331f588_ac1e_11ea_aa7b_acde48001122row0_col0\" class=\"data row0 col0\" >New Users</td>\n",
       "                        <td id=\"T_f331f588_ac1e_11ea_aa7b_acde48001122row0_col1\" class=\"data row0 col1\" >150,000</td>\n",
       "                        <td id=\"T_f331f588_ac1e_11ea_aa7b_acde48001122row0_col2\" class=\"data row0 col2\" >30,000 (20%)</td>\n",
       "                        <td id=\"T_f331f588_ac1e_11ea_aa7b_acde48001122row0_col3\" class=\"data row0 col3\" >75,000</td>\n",
       "                        <td id=\"T_f331f588_ac1e_11ea_aa7b_acde48001122row0_col4\" class=\"data row0 col4\" >18,750 (25%)</td>\n",
       "            </tr>\n",
       "            <tr>\n",
       "                                <td id=\"T_f331f588_ac1e_11ea_aa7b_acde48001122row1_col0\" class=\"data row1 col0\" >Experienced Users</td>\n",
       "                        <td id=\"T_f331f588_ac1e_11ea_aa7b_acde48001122row1_col1\" class=\"data row1 col1\" >100,000</td>\n",
       "                        <td id=\"T_f331f588_ac1e_11ea_aa7b_acde48001122row1_col2\" class=\"data row1 col2\" >1,000 (1%)</td>\n",
       "                        <td id=\"T_f331f588_ac1e_11ea_aa7b_acde48001122row1_col3\" class=\"data row1 col3\" >175,000</td>\n",
       "                        <td id=\"T_f331f588_ac1e_11ea_aa7b_acde48001122row1_col4\" class=\"data row1 col4\" >3,500 (2%)</td>\n",
       "            </tr>\n",
       "            <tr>\n",
       "                                <td id=\"T_f331f588_ac1e_11ea_aa7b_acde48001122row2_col0\" class=\"data row2 col0\" >Total</td>\n",
       "                        <td id=\"T_f331f588_ac1e_11ea_aa7b_acde48001122row2_col1\" class=\"data row2 col1\" >250,000</td>\n",
       "                        <td id=\"T_f331f588_ac1e_11ea_aa7b_acde48001122row2_col2\" class=\"data row2 col2\" >31,000 (12.4%)</td>\n",
       "                        <td id=\"T_f331f588_ac1e_11ea_aa7b_acde48001122row2_col3\" class=\"data row2 col3\" >250,000</td>\n",
       "                        <td id=\"T_f331f588_ac1e_11ea_aa7b_acde48001122row2_col4\" class=\"data row2 col4\" >22,250 (8.9%)</td>\n",
       "            </tr>\n",
       "    </tbody></table>"
      ],
      "text/plain": [
       "<pandas.io.formats.style.Styler at 0x11bf9ea90>"
      ]
     },
     "execution_count": 84,
     "metadata": {},
     "output_type": "execute_result"
    }
   ],
   "source": [
    "sp_df.style.hide_index()"
   ]
  },
  {
   "cell_type": "markdown",
   "metadata": {},
   "source": [
    "<li> In this example, the overall CTR is higher in Control Group, but when user groups are considered, \n",
    "it is higher in experiment group.\n",
    "\n",
    "<li> This is because there are more pageviews from new users in the control group - which indicates something is wrong with the setup or change affects new and experienced users differenctly.\n",
    "    \n",
    "   \n"
   ]
  },
  {
   "cell_type": "markdown",
   "metadata": {},
   "source": [
    "### 3. Multiple Metric\n",
    "\n",
    "<li> The more thigns you test, the more likely you are to see significant differences by chance.<a href = 'https://en.wikipedia.org/wiki/Multiple_comparisons_problem'> Multiple comparisons problem </a>\n"
   ]
  },
  {
   "cell_type": "markdown",
   "metadata": {},
   "source": [
    "Experiment: Prompt students to contact coach more frequently. <br>\n",
    "Metrics:\n",
    "<li> Probability that student signs up for coaching.\n",
    "<li> How early student signs up for coaching.\n",
    "<li> Average price paid per student.\n",
    "    \n",
    "If audancity tracks all 3 metrics and 3 separate significance tests (alpha = 0.05), what is the probability that at least 1 metric will show a significant difference if there is no true difference? <br>\n",
    "    \n",
    "P(0 False Positives) = 0.95 x 0.95 x 0.95 = 0.857 <br>    \n",
    "P(at least 1 FP) = 1 - P(0 False Positives) = 0.143  <br>\n",
    "    \n",
    "<li> This assumes independance, so P(at least 1 FP) is an overestimate\n",
    "    \n",
    "<li> Using higher confidence can negate this.\n",
    "    \n",
    "<li> Bonferroni correction used more frequently. The Bonferroni correction is a very simple method, but there are many other methods, including the closed testing procedure, the Boole-Bonferroni bound, and the Holm-Bonferroni method. This article on multiple comparisons contains more information, and this article contains more information about the false discovery rate (FDR), and methods for controlling that instead of the familywise error rate (FWER).    \n"
   ]
  },
  {
   "cell_type": "markdown",
   "metadata": {},
   "source": [
    "Conclusion: What do results do and dont tell you\n",
    "\n",
    "- If statistical significance results, it means unlikely to have 0 impact on user experience. But do you want to launch a change?\n",
    "\n",
    "- If Statistical significance seen in some metrics, decision depends on size of change.\n",
    "\n",
    "- If Statistical significance in some slices in the data:\n",
    "    - different users?\n",
    "    - effect seen elsewhere?\n",
    "    - is there a bug?"
   ]
  },
  {
   "cell_type": "markdown",
   "metadata": {},
   "source": [
    "Lessons Learned\n",
    "- Check for invariance\n",
    "- check experiment metrics look sane\n",
    "- Look for not just statistical significance but also business sense\n",
    "- Consider Engineering cost,product costs, opportunity cost relative to rewards from change\n",
    "- Now is a good time to test for incidental impact\n",
    "- Try running few different experiment variations before launch."
   ]
  },
  {
   "cell_type": "markdown",
   "metadata": {},
   "source": [
    "\n",
    "<hr>\n",
    "<div dir = \"rtl\">\n",
    "<ul style = 'list-style-type:square'>\n",
    "<li> End of Document\n",
    "</li>\n"
   ]
  },
  {
   "cell_type": "code",
   "execution_count": null,
   "metadata": {},
   "outputs": [],
   "source": []
  }
 ],
 "metadata": {
  "kernelspec": {
   "display_name": "Python 3",
   "language": "python",
   "name": "python3"
  },
  "language_info": {
   "codemirror_mode": {
    "name": "ipython",
    "version": 3
   },
   "file_extension": ".py",
   "mimetype": "text/x-python",
   "name": "python",
   "nbconvert_exporter": "python",
   "pygments_lexer": "ipython3",
   "version": "3.7.4"
  }
 },
 "nbformat": 4,
 "nbformat_minor": 4
}
