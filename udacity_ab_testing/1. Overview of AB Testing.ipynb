{
 "cells": [
  {
   "cell_type": "code",
   "execution_count": 123,
   "metadata": {},
   "outputs": [
    {
     "data": {
      "text/html": [
       "<script>\n",
       "code_show=true; \n",
       "function code_toggle() {\n",
       " if (code_show){\n",
       " $('div.input').hide();\n",
       " $('#toggleButton').val('Show Code')\n",
       " } else {\n",
       " $('div.input').show();\n",
       " $('#toggleButton').val('Hide Code')\n",
       " }\n",
       " code_show = !code_show\n",
       "} \n",
       "$( document ).ready(code_toggle);\n",
       "</script>\n",
       "<form action=\"javascript:code_toggle()\"><input type=\"submit\" id = \"toggleButton\" value=\"Hide Code\"></form>"
      ],
      "text/plain": [
       "<IPython.core.display.HTML object>"
      ]
     },
     "execution_count": 123,
     "metadata": {},
     "output_type": "execute_result"
    }
   ],
   "source": [
    "from IPython.display import HTML\n",
    "\n",
    "HTML('''<script>\n",
    "code_show=true; \n",
    "function code_toggle() {\n",
    " if (code_show){\n",
    " $('div.input').hide();\n",
    " $('#toggleButton').val('Show Code')\n",
    " } else {\n",
    " $('div.input').show();\n",
    " $('#toggleButton').val('Hide Code')\n",
    " }\n",
    " code_show = !code_show\n",
    "} \n",
    "$( document ).ready(code_toggle);\n",
    "</script>\n",
    "<form action=\"javascript:code_toggle()\"><input type=\"submit\" id = \"toggleButton\" value=\"Hide Code\"></form>''')"
   ]
  },
  {
   "cell_type": "code",
   "execution_count": 124,
   "metadata": {},
   "outputs": [],
   "source": [
    "import numpy as np\n",
    "from matplotlib import pylab as plt"
   ]
  },
  {
   "cell_type": "markdown",
   "metadata": {},
   "source": [
    "<h1><center>Lesson 1: Overview of A/B Testing</center></h1>"
   ]
  },
  {
   "cell_type": "markdown",
   "metadata": {},
   "source": [
    "## <center>What is A/B Testing?\n",
    "\n",
    "* A general methodology used online to test a new product or feature before deploying it. \n",
    "* We show 2 groups of users 2 different versions of the product. \n",
    "<br>\n",
    "<br> <b>Control Group</b> is shown existing product and \n",
    "<br> <b>Treatment Group</b> is shown the variation we need to test.\n",
    "\n",
    "\n",
    "<img src=\"_images/ab-testing.png\" style = \"width:350px;height:200px;\">\n",
    "\n",
    "We measure how differently the 2 sets respond to determine if the new version is better and worth deploying.\n"
   ]
  },
  {
   "cell_type": "markdown",
   "metadata": {},
   "source": [
    "## <center>What can A/B testing NOT be used for?\n",
    "\n",
    "> <i>\"A/B Testing helps you climb to the peak of your current mountain, but can't help you choose between 2 mountains\" - John Lily</i>\n",
    "\n",
    "* Not useful for testing a completely new experience. \n",
    "    + There is no comparison baseline if new experience completely different than current\n",
    "    + It is tough to say how long users would need to get used to new experience\n",
    "    \n",
    "* Does not tell if you're completely missing another thing you could be doing\n",
    "\n",
    "* Not effective for testing new premium service: Since users Opt-In for premium, no random control group to compare\n",
    "\n",
    "* When change is emotional (eg. new brand logo) short window of time not useful.\n",
    "\n",
    "\n"
   ]
  },
  {
   "cell_type": "markdown",
   "metadata": {},
   "source": [
    "## <center>Alternatives when A/B Testing cannot be used:\n",
    "\n",
    "* Check logs, test hypothesis and then run A/B Test\n",
    "* Use other techniques: User Experience Research, Focus Groups and Surveys, etc.\n"
   ]
  },
  {
   "cell_type": "markdown",
   "metadata": {},
   "source": [
    "## <center>How to setup an A/B Test?\n",
    "\n",
    "Example:\n",
    "<br>    \n",
    "<b>Experiement Setup: </b> Change the color of Start Now button \n",
    "<img src=\"_images/start_now.png\" style = \"width:500px;height:100px;\">\n",
    "\n",
    "<b>Hypothesis:</b> Changing the colow of 'Start Now' button will increase how many students explore Audacity Courses"
   ]
  },
  {
   "cell_type": "markdown",
   "metadata": {},
   "source": [
    "## <center>How to perform an A/B Test?\n",
    "\n",
    "\n",
    "### 1. Choose a metric to evaluate the test\n",
    "\n",
    "&#x2612; Total No. of Courses completed: This will take too long \n",
    "<br>&#x2612; No. of clicks by a user: Some users may click too many times\n",
    "<br>&#x2612; Click Through Rate (CTR) = # Clicks / # Page Views\n",
    "<br><b>&#x2611; Click Through Probability: Unique Visitors who click / Unique visitors to page</b>\n",
    "> Rate is used to measure usability <br>\n",
    "> Probability is used to measure impact\n",
    "\n",
    "<br>\n",
    "<b> Updated Hypothesis:</b> Changing the color of the 'Start Now' button will increase click through probability\n",
    "\n",
    "\n",
    "\n"
   ]
  },
  {
   "cell_type": "markdown",
   "metadata": {},
   "source": [
    "### 2. Review Statistics\n",
    "#### How many visitors would be a surprising number of visitors?"
   ]
  },
  {
   "cell_type": "markdown",
   "metadata": {},
   "source": [
    "A] Depends on the distribution of the data:\n",
    "\n",
    "* In the case of click/no click, the distribution to use is a binomial distribution. \n",
    "* Binomial can be used when:\n",
    "    \n",
    "    + 2 outcome types: success/fail \n",
    "    + Independant events\n",
    "    + Identical Distribution\n",
    "     \n",
    "* Let's simulate 50 coin flips a 10 times and look at the distribution\n",
    "\n",
    "\n"
   ]
  },
  {
   "cell_type": "code",
   "execution_count": 121,
   "metadata": {},
   "outputs": [
    {
     "data": {
      "image/png": "[encoded data removed]",
      "text/plain": [
       "<Figure size 864x288 with 2 Axes>"
      ]
     },
     "metadata": {
      "needs_background": "light"
     },
     "output_type": "display_data"
    }
   ],
   "source": [
    "np.random.seed(45)\n",
    "\n",
    "p=0.75\n",
    "\n",
    "n1=50\n",
    "size=100\n",
    "x1=np.random.binomial(n=n1, p=p, size=size)\n",
    "x1=x1/50\n",
    "\n",
    "n2=50\n",
    "size=10000\n",
    "x2=np.random.binomial(n=n2, p=p, size=size)\n",
    "x2=x2/50\n",
    "\n",
    "\n",
    "plt.figure(figsize=(12,4))\n",
    "ax1 = plt.subplot(121)\n",
    "plt.hist(x1,bins=np.arange(0, 1, 0.05))\n",
    "plt.xlim(0,1)\n",
    "plt.xticks(np.arange(0, 1, 0.25))\n",
    "plt.xlabel('Fraction of Heads')\n",
    "plt.title('50 samples of \\n100 tosses')\n",
    "ax1.spines[\"top\"].set_visible(False)\n",
    "ax1.spines[\"right\"].set_visible(False)\n",
    "ax1.axvline(x1.mean(), color = 'black', ls='--')\n",
    "\n",
    "\n",
    "ax2 = plt.subplot(122)\n",
    "plt.hist(x2, bins = np.arange(0, 1, 0.05))\n",
    "plt.xlim(0,1)\n",
    "plt.xticks(np.arange(0, 1, 0.25))\n",
    "plt.xlabel('Fraction of Heads')\n",
    "plt.title('50 samples of \\n10000 tosses')\n",
    "ax2.spines[\"top\"].set_visible(False)\n",
    "ax2.spines[\"right\"].set_visible(False)\n",
    "ax2.axvline(x2.mean(), color = 'black', ls='--')\n",
    "\n",
    "\n",
    "\n",
    "\n",
    "plt.show()"
   ]
  },
  {
   "cell_type": "markdown",
   "metadata": {},
   "source": [
    "<li> As N increases, binomial approaches normal distribution.\n",
    "\n",
    "$$\n",
    "S.D. = \\sqrt\\frac{p(1-p)}{N}\n",
    "$$\n",
    "\n",
    "    \n",
    "    \n",
    "<center>$\\mu$ = p"
   ]
  },
  {
   "cell_type": "markdown",
   "metadata": {},
   "source": [
    "Given that it is binomial, look at the sample standard error for binomial and compare to resu"
   ]
  },
  {
   "cell_type": "markdown",
   "metadata": {},
   "source": [
    "### 3. Design the Experiment\n"
   ]
  },
  {
   "cell_type": "markdown",
   "metadata": {},
   "source": [
    "### 4. Analyze the results"
   ]
  },
  {
   "cell_type": "code",
   "execution_count": null,
   "metadata": {},
   "outputs": [],
   "source": []
  }
 ],
 "metadata": {
  "kernelspec": {
   "display_name": "Python 3",
   "language": "python",
   "name": "python3"
  },
  "language_info": {
   "codemirror_mode": {
    "name": "ipython",
    "version": 3
   },
   "file_extension": ".py",
   "mimetype": "text/x-python",
   "name": "python",
   "nbconvert_exporter": "python",
   "pygments_lexer": "ipython3",
   "version": "3.7.4"
  }
 },
 "nbformat": 4,
 "nbformat_minor": 4
}
