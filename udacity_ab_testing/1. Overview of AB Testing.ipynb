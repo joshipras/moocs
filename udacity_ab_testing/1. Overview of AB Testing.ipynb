{
 "cells": [
  {
   "cell_type": "code",
   "execution_count": 123,
   "metadata": {},
   "outputs": [
    {
     "data": {
      "text/html": [
       "<script>\n",
       "code_show=true; \n",
       "function code_toggle() {\n",
       " if (code_show){\n",
       " $('div.input').hide();\n",
       " $('#toggleButton').val('Show Code')\n",
       " } else {\n",
       " $('div.input').show();\n",
       " $('#toggleButton').val('Hide Code')\n",
       " }\n",
       " code_show = !code_show\n",
       "} \n",
       "$( document ).ready(code_toggle);\n",
       "</script>\n",
       "<form action=\"javascript:code_toggle()\"><input type=\"submit\" id = \"toggleButton\" value=\"Hide Code\"></form>"
      ],
      "text/plain": [
       "<IPython.core.display.HTML object>"
      ]
     },
     "execution_count": 123,
     "metadata": {},
     "output_type": "execute_result"
    }
   ],
   "source": [
    "from IPython.display import HTML\n",
    "\n",
    "HTML('''<script>\n",
    "code_show=true; \n",
    "function code_toggle() {\n",
    " if (code_show){\n",
    " $('div.input').hide();\n",
    " $('#toggleButton').val('Show Code')\n",
    " } else {\n",
    " $('div.input').show();\n",
    " $('#toggleButton').val('Hide Code')\n",
    " }\n",
    " code_show = !code_show\n",
    "} \n",
    "$( document ).ready(code_toggle);\n",
    "</script>\n",
    "<form action=\"javascript:code_toggle()\"><input type=\"submit\" id = \"toggleButton\" value=\"Hide Code\"></form>''')"
   ]
  },
  {
   "cell_type": "code",
   "execution_count": 4,
   "metadata": {},
   "outputs": [],
   "source": [
    "import numpy as np\n",
    "from matplotlib import pylab as plt"
   ]
  },
  {
   "cell_type": "markdown",
   "metadata": {},
   "source": [
    "<h1><center>Lesson 1: Overview of A/B Testing</center></h1>"
   ]
  },
  {
   "cell_type": "markdown",
   "metadata": {},
   "source": [
    "## <center>What is A/B Testing?\n",
    "\n",
    "* A general methodology used online to test a new product or feature before deploying it. \n",
    "* We show 2 groups of users 2 different versions of the product. \n",
    "<br>\n",
    "<br> <b>Control Group</b> is shown existing product and \n",
    "<br> <b>Treatment Group</b> is shown the variation we need to test.\n",
    "\n",
    "\n",
    "<img src=\"_images/ab-testing.png\" style = \"width:350px;height:200px;\">\n",
    "\n",
    "We measure how differently the 2 sets respond to determine if the new version is better and worth deploying.\n"
   ]
  },
  {
   "cell_type": "markdown",
   "metadata": {},
   "source": [
    "## <center>What can A/B testing NOT be used for?\n",
    "\n",
    "> <i>\"A/B Testing helps you climb to the peak of your current mountain, but can't help you choose between 2 mountains\" - John Lily</i>\n",
    "\n",
    "* Not useful for testing a completely new experience. \n",
    "    + There is no comparison baseline if new experience completely different than current\n",
    "    + It is tough to say how long users would need to get used to new experience\n",
    "    \n",
    "* Does not tell if you're completely missing another thing you could be doing\n",
    "\n",
    "* Not effective for testing new premium service: Since users Opt-In for premium, no random control group to compare\n",
    "\n",
    "* When change is emotional (eg. new brand logo) short window of time not useful.\n",
    "\n",
    "\n"
   ]
  },
  {
   "cell_type": "markdown",
   "metadata": {},
   "source": [
    "## <center>Alternatives when A/B Testing cannot be used:\n",
    "\n",
    "* Check logs, test hypothesis and then run A/B Test\n",
    "* Use other techniques: User Experience Research, Focus Groups and Surveys, etc.\n"
   ]
  },
  {
   "cell_type": "markdown",
   "metadata": {},
   "source": [
    "## <center>How to setup an A/B Test?\n",
    "\n",
    "Example:\n",
    "<br>    \n",
    "<b>Experiement Setup: </b> Change the color of Start Now button \n",
    "<img src=\"_images/start_now.png\" style = \"width:500px;height:100px;\">\n",
    "\n",
    "<b>Hypothesis:</b> Changing the colow of 'Start Now' button will increase how many students explore Audacity Courses"
   ]
  },
  {
   "cell_type": "markdown",
   "metadata": {},
   "source": [
    "## <center>How to perform an A/B Test?\n",
    "\n",
    "\n",
    "### 1. Choose a metric to evaluate the test\n",
    "\n",
    "&#x2612; Total No. of Courses completed: This will take too long \n",
    "<br>&#x2612; No. of clicks by a user: Some users may click too many times\n",
    "<br>&#x2612; Click Through Rate (CTR) = # Clicks / # Page Views : Does not account for how many users visited.\n",
    "<br><b>&#x2611; Click Through Probability: Unique Visitors who click / Unique visitors to page</b>\n",
    "> Rate is used to measure usability <br>\n",
    "> Probability is used to measure impact\n",
    "\n",
    "\n",
    "<li><b> Updated Hypothesis:</b> Changing the color of the 'Start Now' button will increase click through probability\n",
    "\n",
    "\n",
    "\n"
   ]
  },
  {
   "cell_type": "markdown",
   "metadata": {},
   "source": [
    "### 2. Review Statistics\n",
    "#### How many visitors would be a surprising number of visitors?\n"
   ]
  },
  {
   "cell_type": "markdown",
   "metadata": {},
   "source": [
    "#### A] Depends on the distribution of the data:\n",
    "\n",
    "* In the case of click/no click, the distribution to use is a binomial distribution. \n",
    "* Binomial can be used when:\n",
    "    \n",
    "    + 2 outcome types: success/fail \n",
    "    + Independant events\n",
    "    + Identical Distribution\n",
    "     \n",
    "* Let's simulate 50 coin flips a 10 times and look at the distribution\n",
    "\n",
    "\n"
   ]
  },
  {
   "cell_type": "code",
   "execution_count": 83,
   "metadata": {},
   "outputs": [
    {
     "data": {
      "image/png": "[encoded data removed]",
      "text/plain": [
       "<Figure size 864x288 with 2 Axes>"
      ]
     },
     "metadata": {
      "needs_background": "light"
     },
     "output_type": "display_data"
    }
   ],
   "source": [
    "np.random.seed(45)\n",
    "\n",
    "p=0.75\n",
    "\n",
    "n1=50\n",
    "size=100\n",
    "x1=np.random.binomial(n=n1, p=p, size=size)\n",
    "x1=x1/50\n",
    "\n",
    "n2=50\n",
    "size=10000\n",
    "x2=np.random.binomial(n=n2, p=p, size=size)\n",
    "x2=x2/50\n",
    "\n",
    "\n",
    "plt.figure(figsize=(12,4))\n",
    "ax1 = plt.subplot(121)\n",
    "plt.hist(x1,bins=np.arange(0, 1, 0.05))\n",
    "plt.xlim(0,1)\n",
    "plt.xticks(np.arange(0, 1, 0.25))\n",
    "plt.xlabel('Fraction of Heads')\n",
    "plt.title('50 samples of \\n100 tosses')\n",
    "ax1.spines[\"top\"].set_visible(False)\n",
    "ax1.spines[\"right\"].set_visible(False)\n",
    "ax1.axvline(x1.mean(), color = 'black', ls='--')\n",
    "\n",
    "\n",
    "ax2 = plt.subplot(122)\n",
    "plt.hist(x2, bins = np.arange(0, 1, 0.05))\n",
    "plt.xlim(0,1)\n",
    "plt.xticks(np.arange(0, 1, 0.25))\n",
    "plt.xlabel('Fraction of Heads')\n",
    "plt.title('50 samples of \\n10000 tosses')\n",
    "ax2.spines[\"top\"].set_visible(False)\n",
    "ax2.spines[\"right\"].set_visible(False)\n",
    "ax2.axvline(x2.mean(), color = 'black', ls='--')\n",
    "\n",
    "\n",
    "\n",
    "\n",
    "plt.show()"
   ]
  },
  {
   "cell_type": "markdown",
   "metadata": {},
   "source": [
    "<li> As N increases, binomial approaches normal distribution.\n",
    "\n",
    "$$\n",
    "S.D. = \\sqrt\\frac{p(1-p)}{N}\n",
    "$$\n",
    "\n",
    "    \n",
    "    \n",
    "<center>$\\mu$ = p"
   ]
  },
  {
   "cell_type": "markdown",
   "metadata": {},
   "source": [
    "Given that it is binomial, look at the sample standard error for binomial and compare to results to determine if they are surprising."
   ]
  },
  {
   "cell_type": "markdown",
   "metadata": {},
   "source": [
    "#### B] Depends on the distribution of the data which will give us the confidence interval:\n",
    "\n",
    "#### Confidence Interval for a sample\n",
    "\n",
    "\n",
    "Estimated probability of a click:\n",
    "\n",
    "\n",
    "$\\hat{p} = \\frac{X}{N}$\n",
    "\n",
    "Eg: N = 1000, X = 100, <br><br>\n",
    "$\\hat{p}$ = 0.1 <br>\n",
    "\n",
    "Probability estimated from the sample will have a margin of error from actual probability over entire population:\n",
    "\n",
    "<img src=\"_images/moe.png\" style = \"width:350px;height:200px;\">\n",
    "\n",
    "<br><br> <b>Thumbrule:</b> <br>\n",
    "If N * $\\hat{p}$ > 5 or N * (1-$\\hat{p}$) > 5, <br>Use Normal Distribution\n",
    "\n",
    "For a Normal Distribution\n",
    "\n",
    "m = Z x S.E.\n",
    "<br> \n",
    "\n",
    "= Z x $\\sqrt\\frac{\\hat(p)(1-\\hat(p))}{N}$\n",
    "\n",
    "<br>\n",
    "\n",
    "<li> When No. of samples is large, S.E. is smaller, distribution is tighter, C.I. smaller\n",
    "\n",
    "<li> When $\\hat(p)$ is farther from 0.5, S.E. is smaller, distribution is tighter, C.I. smaller\n",
    "\n",
    "\n"
   ]
  },
  {
   "cell_type": "code",
   "execution_count": 22,
   "metadata": {},
   "outputs": [
    {
     "data": {
      "image/png": "[encoded data removed]",
      "text/plain": [
       "<Figure size 864x288 with 2 Axes>"
      ]
     },
     "metadata": {
      "needs_background": "light"
     },
     "output_type": "display_data"
    }
   ],
   "source": [
    "np.random.seed(45)\n",
    "\n",
    "p1=0.5\n",
    "p2 = 0.90\n",
    "\n",
    "n1=50\n",
    "size=100000\n",
    "x1=np.random.binomial(n=n1, p=p1, size=size)\n",
    "x1=x1/50\n",
    "\n",
    "n2=50\n",
    "size=100000\n",
    "x2=np.random.binomial(n=n2, p=p2, size=size)\n",
    "x2=x2/50\n",
    "\n",
    "\n",
    "plt.figure(figsize=(12,4))\n",
    "ax1 = plt.subplot(121)\n",
    "plt.hist(x1,bins=np.arange(0, 1, 0.05))\n",
    "plt.xlim(0,1)\n",
    "plt.xticks(np.arange(0, 1.25, 0.25))\n",
    "plt.xlabel('Fraction of Heads')\n",
    "plt.title('50 samples of \\n10000 tosses \\n  $\\hat(p)$ = 0.5')\n",
    "ax1.spines[\"top\"].set_visible(False)\n",
    "ax1.spines[\"right\"].set_visible(False)\n",
    "ax1.axvline(x1.mean(), color = 'black', ls='--')\n",
    "\n",
    "\n",
    "ax2 = plt.subplot(122)\n",
    "plt.hist(x2, bins = np.arange(0, 1, 0.05))\n",
    "plt.xlim(0,1)\n",
    "plt.xticks(np.arange(0, 1.25, 0.25))\n",
    "plt.xlabel('Fraction of Heads')\n",
    "plt.title('50 samples of \\n10000 tosses \\n  $\\hat(p)$ = 0.90')\n",
    "ax2.spines[\"top\"].set_visible(False)\n",
    "ax2.spines[\"right\"].set_visible(False)\n",
    "ax2.axvline(x2.mean(), color = 'black', ls='--')\n",
    "\n",
    "\n",
    "\n",
    "\n",
    "plt.show()"
   ]
  },
  {
   "cell_type": "markdown",
   "metadata": {},
   "source": [
    "<li> For a Normal Distribution with $\\mu$ = 0, $\\sigma$ = 1, aka Z distribution\n",
    "\n",
    "    "
   ]
  },
  {
   "cell_type": "code",
   "execution_count": 80,
   "metadata": {},
   "outputs": [
    {
     "data": {
      "image/png": "[encoded data removed]",
      "text/plain": [
       "<Figure size 864x288 with 1 Axes>"
      ]
     },
     "metadata": {
      "needs_background": "light"
     },
     "output_type": "display_data"
    }
   ],
   "source": [
    "np.random.seed(45)\n",
    "\n",
    "p1=0\n",
    "\n",
    "mu, sigma = 0, 1\n",
    "s = np.random.normal(mu, sigma, 10000)\n",
    "\n",
    "\n",
    "\n",
    "plt.figure(figsize=(12,4))\n",
    "ax1 = plt.subplot(121)\n",
    "count, bins, ignored = plt.hist(s, 50)\n",
    "\n",
    "plt.xlim(0,1.99)\n",
    "plt.xticks(np.arange(-4, 4, 1))\n",
    "ax1.spines[\"top\"].set_visible(False)\n",
    "ax1.spines[\"right\"].set_visible(False)\n",
    "\n",
    "ax1.axvline(0, color = 'black', ls='--')\n",
    "ax1.axvline(-1.96, color = 'black', ls=':')\n",
    "ax1.axvline(1.96, color = 'black', ls=':')\n",
    "\n",
    "plt.title('Z = 1.96 for 97.5% of the distribution\\n')\n",
    "\n",
    "plt.text(-3,500,'    Z \\n= -1.96')\n",
    "plt.text(2.1,500,'   Z \\n= 1.96')\n",
    "\n",
    "plt.show()"
   ]
  },
  {
   "cell_type": "markdown",
   "metadata": {},
   "source": [
    "For estimated probability of a click with $\\hat(p)$ = 0.1, at a confidence level of 97.5%, Margin of error: <br>\n",
    "\n",
    "m = 1.96 * (0.1 * 0.9) / 1000 <br>\n",
    "\n",
    "m = 0.019\n",
    "\n",
    "So Confidence Interval <br>\n",
    "C.I. = 0.1 $\\pm$ 0.019 \n",
    "\n",
    "\n",
    "\n"
   ]
  },
  {
   "cell_type": "markdown",
   "metadata": {},
   "source": [
    "### 3. Design the Experiment\n"
   ]
  },
  {
   "cell_type": "markdown",
   "metadata": {},
   "source": [
    "### 4. Analyze the results"
   ]
  },
  {
   "cell_type": "code",
   "execution_count": null,
   "metadata": {},
   "outputs": [],
   "source": []
  }
 ],
 "metadata": {
  "kernelspec": {
   "display_name": "Python 3",
   "language": "python",
   "name": "python3"
  },
  "language_info": {
   "codemirror_mode": {
    "name": "ipython",
    "version": 3
   },
   "file_extension": ".py",
   "mimetype": "text/x-python",
   "name": "python",
   "nbconvert_exporter": "python",
   "pygments_lexer": "ipython3",
   "version": "3.7.4"
  }
 },
 "nbformat": 4,
 "nbformat_minor": 4
}
