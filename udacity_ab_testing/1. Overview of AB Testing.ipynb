{
 "cells": [
  {
   "cell_type": "markdown",
   "metadata": {},
   "source": [
    "<h1><center>Lesson 1: Overview of A/B Testing</center></h1>"
   ]
  },
  {
   "cell_type": "markdown",
   "metadata": {},
   "source": [
    "## <center>What is A/B Testing?\n",
    "\n",
    "* A general methodology used online to test a new product or feature before deploying it. \n",
    "* We show 2 groups of users 2 different versions of the product. \n",
    "<br>\n",
    "<br> <b>Control Group</b> is shown existing product and \n",
    "<br> <b>Treatment Group</b> is shown the variation we need to test.\n",
    "\n",
    "\n",
    "<img src=\"_images/ab-testing.png\" style = \"width:350px;height:200px;\">\n",
    "\n",
    "We measure how differently the 2 sets respond to determine if the new version is better and worth deploying.\n"
   ]
  },
  {
   "cell_type": "markdown",
   "metadata": {},
   "source": [
    "## <center>What can A/B testing NOT be used for?\n",
    "\n",
    "> <i>\"A/B Testing helps you climb to the peak of your current mountain, but can't help you choose between 2 mountains\" - John Lily</i>\n",
    "\n",
    "* Not useful for testing a completely new experience. \n",
    "    + There is no comparison baseline if new experience completely different than current\n",
    "    + It is tough to say how long users would need to get used to new experience\n",
    "    \n",
    "* Does not tell if you're completely missing another thing you could be doing\n",
    "\n",
    "* Not effective for testing new premium service: Since users Opt-In for premium, no random control group to compare\n",
    "\n",
    "* When change is emotional (eg. new brand logo) short window of time not useful.\n",
    "\n",
    "\n"
   ]
  },
  {
   "cell_type": "markdown",
   "metadata": {},
   "source": [
    "## <center>Alternatives when A/B Testing cannot be used:\n",
    "\n",
    "* Check logs, test hypothesis and then run A/B Test\n",
    "* Use other techniques: User Experience Research, Focus Groups and Surveys, etc.\n"
   ]
  },
  {
   "cell_type": "markdown",
   "metadata": {},
   "source": [
    "## <center>How to setup an A/B Test?\n",
    "\n",
    "Example:\n",
    "<br>    \n",
    "<b>Experiement Setup: </b> Change the color of Start Now button \n",
    "<img src=\"_images/start_now.png\" style = \"width:500px;height:100px;\">\n",
    "\n",
    "<b>Hypothesis:</b> Changing the colow of 'Start Now' button will increase how many students explore Audacity Courses"
   ]
  },
  {
   "cell_type": "markdown",
   "metadata": {},
   "source": [
    "## <center>How to perform an A/B Test?\n",
    "\n",
    "\n",
    "### 1. Choose a metric to evaluate the test\n",
    "\n",
    "&#x2612; Total No. of Courses completed: This will take too long \n",
    "<br>&#x2612; No. of clicks by a user: Some users may click too many times\n",
    "<br>&#x2612; Click Through Rate (CTR) = # Clicks / # Page Views\n",
    "<br><b>&#x2611; Click Through Probability: Unique Visitors who click / Unique visitors to page</b>\n",
    "> Rate is used to measure usability <br>\n",
    "> Probability is used to measure impact\n",
    "\n",
    "<br>\n",
    "<b> Updated Hypothesis:</b> Changing the color of the 'Start Now' button will increase click through probability\n",
    "\n",
    "\n",
    "\n"
   ]
  },
  {
   "cell_type": "markdown",
   "metadata": {},
   "source": [
    "### 2. Review Statistics\n"
   ]
  },
  {
   "cell_type": "markdown",
   "metadata": {},
   "source": [
    "### 3. Design the Experiment\n"
   ]
  },
  {
   "cell_type": "markdown",
   "metadata": {},
   "source": [
    "### 4. Analyze the results"
   ]
  },
  {
   "cell_type": "code",
   "execution_count": null,
   "metadata": {},
   "outputs": [],
   "source": []
  }
 ],
 "metadata": {
  "kernelspec": {
   "display_name": "Python 3",
   "language": "python",
   "name": "python3"
  },
  "language_info": {
   "codemirror_mode": {
    "name": "ipython",
    "version": 3
   },
   "file_extension": ".py",
   "mimetype": "text/x-python",
   "name": "python",
   "nbconvert_exporter": "python",
   "pygments_lexer": "ipython3",
   "version": "3.7.4"
  }
 },
 "nbformat": 4,
 "nbformat_minor": 4
}
